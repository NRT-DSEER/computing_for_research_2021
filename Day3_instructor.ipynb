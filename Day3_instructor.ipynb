{
 "cells": [
  {
   "cell_type": "markdown",
   "id": "prompt-quantity",
   "metadata": {},
   "source": [
    "# Day 3 - Numpy and Numerical Methods\n",
    "\n",
    "## Agenda\n",
    "1. numpy\n",
    "  1. creating basic ndarrays.\n",
    "  2. indexing + slicing.\n",
    "  3. math. a word to the wise.\n",
    "  4. broadcasting, an introduction.\n",
    "  5. worked example.\n",
    "2. numerical methods\n",
    "  1. finding zeros of functions.\n",
    "  2. scipy.minimize .\n",
    "  3. simple derivatives and integrals.\n",
    "  4. scipy.interpolate .\n",
    "  5. project."
   ]
  },
  {
   "cell_type": "markdown",
   "id": "flexible-nursing",
   "metadata": {},
   "source": [
    "#>>  \n",
    "first step: show everyone how to download this from github  \n",
    "second step: update and import "
   ]
  },
  {
   "cell_type": "markdown",
   "id": "graphic-romania",
   "metadata": {},
   "source": [
    "code sources:  \n",
    "https://numpy.org/doc/stable/user/basics.creation.html#arrays-creation  \n",
    "https://cs231n.github.io/python-numpy-tutorial/"
   ]
  },
  {
   "cell_type": "code",
   "execution_count": 206,
   "id": "processed-russia",
   "metadata": {},
   "outputs": [],
   "source": [
    "# imports for this notebook\n",
    "import numpy as np\n",
    "np.set_printoptions(suppress=True) # disable scientific notation\n",
    "import scipy.optimize, scipy.interpolate, scipy.integrate, scipy.misc\n",
    "import time\n",
    "import matplotlib.pyplot as plt"
   ]
  },
  {
   "cell_type": "markdown",
   "id": "hydraulic-gilbert",
   "metadata": {},
   "source": [
    "## Part 1: numpy\n",
    "\n",
    "universally accepted as the core computing library for python. pretty much every other major library is built on top of numpy: scipy, pandas, matplotlib, xarray, Dask, scikit-learn, PyTorch, TensorFlow, seaborn, plotly....\n",
    "\n",
    "pretty much everyone imports it like above: `import numpy as np`, that's how you'll pretty much always see it in documentation\n",
    "\n",
    "n.b.: for numpy, it's generally best practice to not overwrite standard python functions, i.e. don't use `from numpy import [packages]`. too many shared names across libraries, e.g. the python built-in `sum()`, numpy `np.sum()`, and pandas `pd.sum()` have slightly different functionalities and under-the-hood methods; don't mix them up in your imports bc then you're not sure which library you're using when calling `sum()`.\n",
    "\n",
    "n.b.b: numpy is a very large library. where you can, import specific modules rather than all of numpy; if you're only using `ndarray`s and their methods, then call `import numpy.ndarray`, not the full library. especially important when doing things on Midway, e.g."
   ]
  },
  {
   "cell_type": "markdown",
   "id": "passive-handy",
   "metadata": {},
   "source": [
    "### > (i) creating basic numpy arrays."
   ]
  },
  {
   "cell_type": "code",
   "execution_count": 2,
   "id": "southeast-teaching",
   "metadata": {},
   "outputs": [
    {
     "name": "stdout",
     "output_type": "stream",
     "text": [
      "[1, 2, 3, 4, 5]\n",
      "[1 2 3 4 5]\n"
     ]
    }
   ],
   "source": [
    "a = [1,2,3,4,5] #basic python array\n",
    "aa = np.array([1,2,3,4,5]) #basic np array\n",
    "print(a)\n",
    "print(aa)"
   ]
  },
  {
   "cell_type": "code",
   "execution_count": 3,
   "id": "after-mixer",
   "metadata": {
    "scrolled": true
   },
   "outputs": [
    {
     "name": "stdout",
     "output_type": "stream",
     "text": [
      "<class 'list'>\n",
      "<class 'numpy.ndarray'>\n"
     ]
    }
   ],
   "source": [
    "print(type(a))\n",
    "print(type(aa))"
   ]
  },
  {
   "cell_type": "markdown",
   "id": "missing-colonial",
   "metadata": {},
   "source": [
    "#>> what's the difference between `len()` and `.shape`?  \n",
    "\n",
    "also mention that here's a rare case of using an instance variable in normal usage"
   ]
  },
  {
   "cell_type": "code",
   "execution_count": 6,
   "id": "celtic-stack",
   "metadata": {},
   "outputs": [
    {
     "name": "stdout",
     "output_type": "stream",
     "text": [
      "5\n",
      "5\n",
      "(5,)\n"
     ]
    },
    {
     "ename": "AttributeError",
     "evalue": "'list' object has no attribute 'shape'",
     "output_type": "error",
     "traceback": [
      "\u001b[0;31m---------------------------------------------------------------------------\u001b[0m",
      "\u001b[0;31mAttributeError\u001b[0m                            Traceback (most recent call last)",
      "\u001b[0;32m<ipython-input-6-f9e833a62ddc>\u001b[0m in \u001b[0;36m<module>\u001b[0;34m\u001b[0m\n\u001b[1;32m      2\u001b[0m \u001b[0mprint\u001b[0m\u001b[0;34m(\u001b[0m\u001b[0mlen\u001b[0m\u001b[0;34m(\u001b[0m\u001b[0maa\u001b[0m\u001b[0;34m)\u001b[0m\u001b[0;34m)\u001b[0m\u001b[0;34m\u001b[0m\u001b[0;34m\u001b[0m\u001b[0m\n\u001b[1;32m      3\u001b[0m \u001b[0mprint\u001b[0m\u001b[0;34m(\u001b[0m\u001b[0maa\u001b[0m\u001b[0;34m.\u001b[0m\u001b[0mshape\u001b[0m\u001b[0;34m)\u001b[0m\u001b[0;34m\u001b[0m\u001b[0;34m\u001b[0m\u001b[0m\n\u001b[0;32m----> 4\u001b[0;31m \u001b[0mprint\u001b[0m\u001b[0;34m(\u001b[0m\u001b[0ma\u001b[0m\u001b[0;34m.\u001b[0m\u001b[0mshape\u001b[0m\u001b[0;34m)\u001b[0m\u001b[0;34m\u001b[0m\u001b[0;34m\u001b[0m\u001b[0m\n\u001b[0m",
      "\u001b[0;31mAttributeError\u001b[0m: 'list' object has no attribute 'shape'"
     ]
    }
   ],
   "source": [
    "print(len(a))\n",
    "print(len(aa))\n",
    "print(aa.shape)\n",
    "print(a.shape)"
   ]
  },
  {
   "cell_type": "code",
   "execution_count": 7,
   "id": "descending-darwin",
   "metadata": {
    "scrolled": true
   },
   "outputs": [
    {
     "name": "stdout",
     "output_type": "stream",
     "text": [
      "[[1, 2], [3, 4], [5, 6]]\n",
      "[[1 2]\n",
      " [3 4]\n",
      " [5 6]]\n",
      "3\n",
      "3\n",
      "(3, 2)\n"
     ]
    }
   ],
   "source": [
    "b = [[1,2],[3,4],[5,6]]\n",
    "bb = np.array(b)\n",
    "print(b)\n",
    "print(bb)\n",
    "print(len(b))\n",
    "print(len(bb))\n",
    "print(bb.shape)"
   ]
  },
  {
   "cell_type": "markdown",
   "id": "numeric-profession",
   "metadata": {},
   "source": [
    "#>> common ways to instantiate ndarray objects"
   ]
  },
  {
   "cell_type": "code",
   "execution_count": 10,
   "id": "former-activation",
   "metadata": {},
   "outputs": [
    {
     "name": "stdout",
     "output_type": "stream",
     "text": [
      "[[0. 0.]\n",
      " [0. 0.]]\n",
      "\n",
      "[[[1. 1.]\n",
      "  [1. 1.]\n",
      "  [1. 1.]]\n",
      "\n",
      " [[1. 1.]\n",
      "  [1. 1.]\n",
      "  [1. 1.]]]\n",
      "\n",
      "[0.40024334 0.49804347 0.71498841 0.31178827 0.3452353  0.81484285\n",
      " 0.36796503 0.19094328 0.18006926 0.29599232]\n",
      "\n",
      "[[1. 0. 0. 0. 0.]\n",
      " [0. 1. 0. 0. 0.]\n",
      " [0. 0. 1. 0. 0.]\n",
      " [0. 0. 0. 1. 0.]\n",
      " [0. 0. 0. 0. 1.]]\n",
      "\n",
      "[[1 0 0 0]\n",
      " [0 2 0 0]\n",
      " [0 0 3 0]\n",
      " [0 0 0 4]]\n"
     ]
    }
   ],
   "source": [
    "a = np.zeros((2,2))\n",
    "print(a)\n",
    "print(\"\")\n",
    "\n",
    "b = np.ones((2,3,2))\n",
    "print(b)\n",
    "print(\"\")\n",
    "\n",
    "c = np.random.random(10)\n",
    "print(c)\n",
    "print(\"\")\n",
    "\n",
    "d = np.eye(5)\n",
    "print(d)\n",
    "print(\"\")\n",
    "\n",
    "e = np.diag([1,2,3,4])\n",
    "print(e)"
   ]
  },
  {
   "cell_type": "markdown",
   "id": "aging-little",
   "metadata": {},
   "source": [
    "dtypes specify the 'number type' of the values we store in the arrays. it is a memory allocation; by default, it will be float64 (occasionally int64, depending on what is passed, like diag above)\n",
    "\n",
    "very easy parameter to add"
   ]
  },
  {
   "cell_type": "code",
   "execution_count": 22,
   "id": "opened-mapping",
   "metadata": {},
   "outputs": [
    {
     "name": "stdout",
     "output_type": "stream",
     "text": [
      "[1 2 3 4 5]\n",
      "[1. 2. 3. 4. 5.]\n"
     ]
    }
   ],
   "source": [
    "a = np.array([1,2,3,4,5])\n",
    "print(a)\n",
    "b = np.array([1,2,3,4,5], dtype='float32') # dtype=np.float32 also works, if you prefer\n",
    "print(b)"
   ]
  },
  {
   "cell_type": "markdown",
   "id": "annual-trinity",
   "metadata": {},
   "source": [
    "however! you must be careful with this, to make sure you don't overfill the memory allocations!!"
   ]
  },
  {
   "cell_type": "code",
   "execution_count": 21,
   "id": "missing-studio",
   "metadata": {},
   "outputs": [
    {
     "name": "stdout",
     "output_type": "stream",
     "text": [
      "[ 127 -128 -127]\n"
     ]
    }
   ],
   "source": [
    "a = np.array([127, 128, 129], dtype='int8')\n",
    "print(a)"
   ]
  },
  {
   "cell_type": "markdown",
   "id": "hollywood-thriller",
   "metadata": {},
   "source": [
    "`arange()` and `linspace()` are also commonly used methods to instantiate arrays. what's the difference? "
   ]
  },
  {
   "cell_type": "code",
   "execution_count": 29,
   "id": "actual-document",
   "metadata": {},
   "outputs": [
    {
     "name": "stdout",
     "output_type": "stream",
     "text": [
      "[0 1 2 3 4 5 6 7 8 9]\n",
      "[2 3 4 5 6]\n",
      "[0.  0.1 0.2 0.3 0.4 0.5 0.6 0.7 0.8 0.9]\n",
      "[0.    0.333 0.666 0.999]\n",
      "[0.   0.25 0.5  0.75 1.  ]\n"
     ]
    }
   ],
   "source": [
    "print(np.arange(10))\n",
    "print(np.arange(2,7)) # defaults to int where possible\n",
    "print(np.arange(0,1,.1))\n",
    "print(np.arange(0,1,.333))\n",
    "print(np.arange(0,1,.249999999))"
   ]
  },
  {
   "cell_type": "code",
   "execution_count": 38,
   "id": "sophisticated-manitoba",
   "metadata": {},
   "outputs": [
    {
     "name": "stdout",
     "output_type": "stream",
     "text": [
      "[1.]\n",
      "[ 1.  2.  3.  4.  5.  6.  7.  8.  9. 10.]\n",
      "[ 1  2  3  4  5  6  7  8  9 10]\n",
      "[0.   0.25 0.5  0.75 1.  ]\n",
      "[0.   0.01 0.02 0.03 0.04 0.05 0.06 0.07 0.08 0.09 0.1  0.11 0.12 0.13\n",
      " 0.14 0.15 0.16 0.17 0.18 0.19 0.2  0.21 0.22 0.23 0.24 0.25 0.26 0.27\n",
      " 0.28 0.29 0.3  0.31 0.32 0.33 0.34 0.35 0.36 0.37 0.38 0.39 0.4  0.41\n",
      " 0.42 0.43 0.44 0.45 0.46 0.47 0.48 0.49 0.5  0.51 0.52 0.53 0.54 0.55\n",
      " 0.56 0.57 0.58 0.59 0.6  0.61 0.62 0.63 0.64 0.65 0.66 0.67 0.68 0.69\n",
      " 0.7  0.71 0.72 0.73 0.74 0.75 0.76 0.77 0.78 0.79 0.8  0.81 0.82 0.83\n",
      " 0.84 0.85 0.86 0.87 0.88 0.89 0.9  0.91 0.92 0.93 0.94 0.95 0.96 0.97\n",
      " 0.98 0.99 1.  ]\n"
     ]
    }
   ],
   "source": [
    "print(np.linspace(1,10,1))\n",
    "print(np.linspace(1,10,10)) # always defaults to float\n",
    "print(np.linspace(1,10,10, dtype='int'))\n",
    "print(np.linspace(0,1,5))\n",
    "print(np.linspace(0,1,101))"
   ]
  },
  {
   "cell_type": "markdown",
   "id": "distinct-estate",
   "metadata": {},
   "source": [
    "how do we combine ndarrays?"
   ]
  },
  {
   "cell_type": "code",
   "execution_count": 57,
   "id": "polyphonic-prairie",
   "metadata": {},
   "outputs": [
    {
     "name": "stdout",
     "output_type": "stream",
     "text": [
      "[[0 0]\n",
      " [1 1]]\n",
      "\n",
      "[[2 2 2]\n",
      " [3 3 3]]\n",
      "\n",
      "[[0 0 2 2 2]\n",
      " [1 1 3 3 3]]\n"
     ]
    }
   ],
   "source": [
    "# horizontal stacking, i.e. row1 + row1, row2 + row2\n",
    "a = np.array([[0,0],[1,1]]) # shape(2,2)\n",
    "b = np.array([[2,2,2],[3,3,3]]) # shape(2,3)\n",
    "print(a)\n",
    "print(\"\")\n",
    "print(b)\n",
    "print(\"\")\n",
    "print( np.hstack((a,b)) )"
   ]
  },
  {
   "cell_type": "code",
   "execution_count": 55,
   "id": "destroyed-puppy",
   "metadata": {},
   "outputs": [
    {
     "name": "stdout",
     "output_type": "stream",
     "text": [
      "[[0 0]\n",
      " [1 1]]\n",
      "\n",
      "[[2 3]\n",
      " [2 3]\n",
      " [2 3]]\n",
      "\n",
      "[[0 0]\n",
      " [1 1]\n",
      " [2 3]\n",
      " [2 3]\n",
      " [2 3]]\n"
     ]
    }
   ],
   "source": [
    "# vertical stacking, i.e. col1 + col1, col2 + col2\n",
    "bt = b.T # shape(3,2)\n",
    "print(a)\n",
    "print(\"\")\n",
    "print(bt)\n",
    "print(\"\")\n",
    "print( np.vstack((a, bt)) )"
   ]
  },
  {
   "cell_type": "markdown",
   "id": "armed-fountain",
   "metadata": {},
   "source": [
    "if you don't match the dimensions correctly, you will get a moderately confusing error message:"
   ]
  },
  {
   "cell_type": "code",
   "execution_count": 58,
   "id": "visible-richmond",
   "metadata": {},
   "outputs": [
    {
     "ename": "ValueError",
     "evalue": "all the input array dimensions for the concatenation axis must match exactly, but along dimension 0, the array at index 0 has size 2 and the array at index 1 has size 3",
     "output_type": "error",
     "traceback": [
      "\u001b[0;31m---------------------------------------------------------------------------\u001b[0m",
      "\u001b[0;31mValueError\u001b[0m                                Traceback (most recent call last)",
      "\u001b[0;32m<ipython-input-58-2342bda00b9c>\u001b[0m in \u001b[0;36m<module>\u001b[0;34m\u001b[0m\n\u001b[0;32m----> 1\u001b[0;31m \u001b[0mprint\u001b[0m\u001b[0;34m(\u001b[0m \u001b[0mnp\u001b[0m\u001b[0;34m.\u001b[0m\u001b[0mhstack\u001b[0m\u001b[0;34m(\u001b[0m\u001b[0;34m(\u001b[0m\u001b[0ma\u001b[0m\u001b[0;34m,\u001b[0m \u001b[0mbt\u001b[0m\u001b[0;34m)\u001b[0m\u001b[0;34m)\u001b[0m \u001b[0;34m)\u001b[0m\u001b[0;34m\u001b[0m\u001b[0;34m\u001b[0m\u001b[0m\n\u001b[0m",
      "\u001b[0;32m<__array_function__ internals>\u001b[0m in \u001b[0;36mhstack\u001b[0;34m(*args, **kwargs)\u001b[0m\n",
      "\u001b[0;32m/usr/local/lib/python3.9/site-packages/numpy/core/shape_base.py\u001b[0m in \u001b[0;36mhstack\u001b[0;34m(tup)\u001b[0m\n\u001b[1;32m    343\u001b[0m         \u001b[0;32mreturn\u001b[0m \u001b[0m_nx\u001b[0m\u001b[0;34m.\u001b[0m\u001b[0mconcatenate\u001b[0m\u001b[0;34m(\u001b[0m\u001b[0marrs\u001b[0m\u001b[0;34m,\u001b[0m \u001b[0;36m0\u001b[0m\u001b[0;34m)\u001b[0m\u001b[0;34m\u001b[0m\u001b[0;34m\u001b[0m\u001b[0m\n\u001b[1;32m    344\u001b[0m     \u001b[0;32melse\u001b[0m\u001b[0;34m:\u001b[0m\u001b[0;34m\u001b[0m\u001b[0;34m\u001b[0m\u001b[0m\n\u001b[0;32m--> 345\u001b[0;31m         \u001b[0;32mreturn\u001b[0m \u001b[0m_nx\u001b[0m\u001b[0;34m.\u001b[0m\u001b[0mconcatenate\u001b[0m\u001b[0;34m(\u001b[0m\u001b[0marrs\u001b[0m\u001b[0;34m,\u001b[0m \u001b[0;36m1\u001b[0m\u001b[0;34m)\u001b[0m\u001b[0;34m\u001b[0m\u001b[0;34m\u001b[0m\u001b[0m\n\u001b[0m\u001b[1;32m    346\u001b[0m \u001b[0;34m\u001b[0m\u001b[0m\n\u001b[1;32m    347\u001b[0m \u001b[0;34m\u001b[0m\u001b[0m\n",
      "\u001b[0;32m<__array_function__ internals>\u001b[0m in \u001b[0;36mconcatenate\u001b[0;34m(*args, **kwargs)\u001b[0m\n",
      "\u001b[0;31mValueError\u001b[0m: all the input array dimensions for the concatenation axis must match exactly, but along dimension 0, the array at index 0 has size 2 and the array at index 1 has size 3"
     ]
    }
   ],
   "source": [
    "print( np.hstack((a, bt)) )"
   ]
  },
  {
   "cell_type": "code",
   "execution_count": 60,
   "id": "german-snake",
   "metadata": {},
   "outputs": [
    {
     "name": "stdout",
     "output_type": "stream",
     "text": [
      "[[ 1.  1.  1.  0.]\n",
      " [ 1.  1.  0.  1.]\n",
      " [ 0.  0. -3.  0.]\n",
      " [ 0.  0.  0. -4.]]\n"
     ]
    }
   ],
   "source": [
    "# we also have np.block, to make larger arrays\n",
    "A = np.ones((2, 2))\n",
    "B = np.eye(2)\n",
    "C = np.zeros((2, 2))\n",
    "D = np.diag((-3, -4))\n",
    "print(np.block([[A, B],[C,D]]))"
   ]
  },
  {
   "cell_type": "markdown",
   "id": "reduced-roman",
   "metadata": {},
   "source": [
    "by far the most useful of these methods is the `reshape()` function. when you are manually creating your arrays, it is often faster to create a one-dimensional matrix with all of your values, then `reshape` it into the desired dimensionality, than it is to outright create the matrix in the correct dimensionality."
   ]
  },
  {
   "cell_type": "code",
   "execution_count": 108,
   "id": "ultimate-rally",
   "metadata": {},
   "outputs": [
    {
     "name": "stdout",
     "output_type": "stream",
     "text": [
      "[[ 0  1  2  3  4  5  6  7  8  9]\n",
      " [10 11 12 13 14 15 16 17 18 19]\n",
      " [20 21 22 23 24 25 26 27 28 29]\n",
      " [30 31 32 33 34 35 36 37 38 39]\n",
      " [40 41 42 43 44 45 46 47 48 49]\n",
      " [50 51 52 53 54 55 56 57 58 59]\n",
      " [60 61 62 63 64 65 66 67 68 69]\n",
      " [70 71 72 73 74 75 76 77 78 79]\n",
      " [80 81 82 83 84 85 86 87 88 89]\n",
      " [90 91 92 93 94 95 96 97 98 99]]\n"
     ]
    }
   ],
   "source": [
    "a = np.arange(100)\n",
    "a = a.reshape((10,10))\n",
    "print(a)"
   ]
  },
  {
   "cell_type": "markdown",
   "id": "injured-abuse",
   "metadata": {},
   "source": [
    "finally, we can read in `.csv` and `.txt` files (and other data types) directly as `ndarray`s, using the function `np.load()`. we won't do that today, but it is very useful when you're doing data analysis and have transformed a bunch of your data into `ndarray` format. it can then be saved directly as a `.npy` file, which makes reading it in at a later date dramatically faster than saving everything as `.csv` and converting to `ndarray`."
   ]
  },
  {
   "cell_type": "markdown",
   "id": "comic-suspension",
   "metadata": {},
   "source": [
    "### > (ii) indexing + slicing."
   ]
  },
  {
   "cell_type": "code",
   "execution_count": 75,
   "id": "private-source",
   "metadata": {},
   "outputs": [
    {
     "name": "stdout",
     "output_type": "stream",
     "text": [
      "[1, 2, 3]\n",
      "[2, 3]\n",
      "[]\n",
      "\n",
      "[1 2 3]\n",
      "[2 3]\n",
      "[2 3]\n",
      "[[5 6]]\n"
     ]
    }
   ],
   "source": [
    "# standard python version\n",
    "a = [[1,2,3],[4,5,6]]\n",
    "print(a[0])\n",
    "print(a[0][1:])\n",
    "print(a[1:][1:])\n",
    "print(\"\")\n",
    "\n",
    "# numpy\n",
    "aa = np.array(a)\n",
    "print(aa[0])\n",
    "print(aa[0][1:])\n",
    "print(aa[0,1:]) # best way to access numpy arrays\n",
    "print(aa[1:,1:])"
   ]
  },
  {
   "cell_type": "code",
   "execution_count": 81,
   "id": "nasty-container",
   "metadata": {},
   "outputs": [
    {
     "name": "stdout",
     "output_type": "stream",
     "text": [
      "[[ 1  2  3  4]\n",
      " [ 5  6  7  8]\n",
      " [ 9 10 11 12]]\n",
      "(3, 4)\n",
      "\n",
      "[[2]\n",
      " [6]]\n",
      "(2, 1)\n",
      "\n",
      "[2 6]\n",
      "(2,)\n"
     ]
    }
   ],
   "source": [
    "# why use slicing?\n",
    "a = np.array([[1,2,3,4], [5,6,7,8], [9,10,11,12]])\n",
    "print(a)\n",
    "print(a.shape)\n",
    "print(\"\")\n",
    "\n",
    "b = a[:2, 1:2]\n",
    "print(b)\n",
    "print(b.shape)\n",
    "print(\"\")\n",
    "\n",
    "c = a[:2, 1]\n",
    "print(c)\n",
    "print(c.shape)"
   ]
  },
  {
   "cell_type": "markdown",
   "id": "saving-canadian",
   "metadata": {},
   "source": [
    "however! we have to be careful:"
   ]
  },
  {
   "cell_type": "code",
   "execution_count": 88,
   "id": "express-consumer",
   "metadata": {},
   "outputs": [
    {
     "name": "stdout",
     "output_type": "stream",
     "text": [
      "[[1 2 3]\n",
      " [4 5 6]\n",
      " [7 8 9]]\n",
      "\n",
      "[[1]\n",
      " [4]\n",
      " [7]]\n",
      "\n",
      "[[ 6]\n",
      " [ 9]\n",
      " [12]]\n",
      "\n",
      "[[ 6  2  3]\n",
      " [ 9  5  6]\n",
      " [12  8  9]]\n"
     ]
    }
   ],
   "source": [
    "a = np.array([[1,2,3],[4,5,6],[7,8,9]])\n",
    "print(a)\n",
    "print(\"\")\n",
    "\n",
    "# let's get the first column and keep the shape\n",
    "b = a[:,0:1]\n",
    "print(b)\n",
    "print(\"\")\n",
    "\n",
    "# modify this new array\n",
    "b += 5\n",
    "print(b)\n",
    "print(\"\")\n",
    "\n",
    "print(a) # :("
   ]
  },
  {
   "cell_type": "markdown",
   "id": "settled-failure",
   "metadata": {},
   "source": [
    "everytime we slice and dice a numpy array, __WE ARE NOT CREATING A NEW ARRAY__. we are only creating a 'view' along a particular cross-section. be very careful when changing numpy arrays.\n",
    "\n",
    "if you would like to create a new array, then use `copy()`:"
   ]
  },
  {
   "cell_type": "code",
   "execution_count": 89,
   "id": "graduate-belarus",
   "metadata": {},
   "outputs": [
    {
     "name": "stdout",
     "output_type": "stream",
     "text": [
      "[[1 2 3]\n",
      " [4 5 6]\n",
      " [7 8 9]]\n",
      "\n",
      "[[1]\n",
      " [4]\n",
      " [7]]\n",
      "\n",
      "[[ 6]\n",
      " [ 9]\n",
      " [12]]\n",
      "\n",
      "[[1 2 3]\n",
      " [4 5 6]\n",
      " [7 8 9]]\n"
     ]
    }
   ],
   "source": [
    "a = np.array([[1,2,3],[4,5,6],[7,8,9]])\n",
    "print(a)\n",
    "print(\"\")\n",
    "\n",
    "# let's get the first column and keep the shape\n",
    "b = a[:,0:1].copy()\n",
    "print(b)\n",
    "print(\"\")\n",
    "\n",
    "# modify this new, COPIED array\n",
    "b += 5\n",
    "print(b)\n",
    "print(\"\")\n",
    "\n",
    "print(a) # :)"
   ]
  },
  {
   "cell_type": "markdown",
   "id": "uniform-cardiff",
   "metadata": {},
   "source": [
    "numpy also lets us do 'integer array indexing', which basically just means \"using a numpy array to select values from a different numpy array\""
   ]
  },
  {
   "cell_type": "code",
   "execution_count": 94,
   "id": "matched-polyester",
   "metadata": {},
   "outputs": [
    {
     "name": "stdout",
     "output_type": "stream",
     "text": [
      "[[1 2]\n",
      " [3 4]\n",
      " [5 6]]\n",
      "\n",
      "[[0 1 2]\n",
      " [0 1 0]]\n",
      "\n",
      "[1 4 5]\n",
      "\n",
      "[2 2]\n"
     ]
    }
   ],
   "source": [
    "a = np.array([[1,2], [3, 4], [5, 6]])\n",
    "b = np.array([[0,1,2],[0,1,0]]) # just for clarification, can't actually use variable b in the indexing call\n",
    "print(a)\n",
    "print(\"\")\n",
    "print(b)\n",
    "print(\"\")\n",
    "\n",
    "print(a[[0,1,2],[0,1,0]]) # equivalent to: np.array( [a[0,0], a[1,1], a[2,0]] )\n",
    "print(\"\")\n",
    "\n",
    "# When using integer array indexing, you can reuse the same\n",
    "# element from the source array:\n",
    "print(a[[0, 0], [1, 1]])"
   ]
  },
  {
   "cell_type": "markdown",
   "id": "northern-turning",
   "metadata": {},
   "source": [
    "#### Exercise\n",
    "\n",
    "__problem__: you are given an array `a`. use integer array indexing to successfully print out the `mutated_a` array given in the code below. \n",
    "\n",
    "_hint_: _you should take advantage of the 'view' capabilities of selecting elements to perform the desired mutation; create a one-dimensional array that captures the columns, and then use one of the elementary array methods to index the rows_."
   ]
  },
  {
   "cell_type": "code",
   "execution_count": null,
   "id": "acceptable-viewer",
   "metadata": {},
   "outputs": [],
   "source": [
    "a = np.array([[1,2,3], [4,5,6], [7,8,9], [10, 11, 12]])\n",
    "print(a)\n",
    "print(\"\")\n",
    "\n",
    "### your code here ###\n",
    "\n",
    "# >> solution\n",
    "# Create an array of indices\n",
    "b = np.array([0, 2, 0, 1])\n",
    "\n",
    "# Select one element from each row of a using the indices in b\n",
    "print(a[np.arange(4), b])  # Prints \"[ 1  6  7 11]\"\n",
    "\n",
    "# Mutate one element from each row of a using the indices in b\n",
    "a[np.arange(4), b] += 10\n",
    "\n",
    "# << end\n",
    "\n",
    "print(a)  # should print out mutated_a, given below\n",
    "\n",
    "# mutated_a: \n",
    "# [[11,  2,  3],\n",
    "#  [ 4,  5, 16],\n",
    "#  [17,  8,  9],\n",
    "#  [10, 21, 12]]"
   ]
  },
  {
   "cell_type": "markdown",
   "id": "personal-corporation",
   "metadata": {},
   "source": [
    "boolean array indexing is very similar to what we just did, except we just use the numerical form of booleans to do the indexing.\n",
    "\n",
    "recall that `True = 1` and `False = 0`. so then a boolean indexing call only returns values of our array where the condition is `True`."
   ]
  },
  {
   "cell_type": "code",
   "execution_count": 96,
   "id": "compressed-plaintiff",
   "metadata": {},
   "outputs": [
    {
     "name": "stdout",
     "output_type": "stream",
     "text": [
      "[[False False]\n",
      " [False  True]\n",
      " [ True  True]]\n",
      "\n",
      "[4 5 6]\n"
     ]
    }
   ],
   "source": [
    "a = np.array([[1,2],[3,4],[5,6]])\n",
    "bidx = a > 3\n",
    "print(bidx)\n",
    "print(\"\")\n",
    "\n",
    "# select only the truthful elements of a\n",
    "print(a[bidx]) # equivalent: a[a>3]"
   ]
  },
  {
   "cell_type": "markdown",
   "id": "analyzed-occurrence",
   "metadata": {},
   "source": [
    "notice, however, that it does flatten our array. if you wish to keep the original structure of the array, it is generally better to use masked arrays. we will not go over this here, but if you're interested, take a look at the documentation of `numpy.ma` [here](https://numpy.org/doc/stable/reference/maskedarray.html). for completeness, here is a simple example."
   ]
  },
  {
   "cell_type": "code",
   "execution_count": 97,
   "id": "crucial-circle",
   "metadata": {},
   "outputs": [
    {
     "name": "stdout",
     "output_type": "stream",
     "text": [
      "[[1 2]\n",
      " [3 --]\n",
      " [-- --]]\n"
     ]
    }
   ],
   "source": [
    "masked_a = np.ma.masked_where(a>3, a)\n",
    "print(masked_a)"
   ]
  },
  {
   "cell_type": "markdown",
   "id": "adopted-impossible",
   "metadata": {},
   "source": [
    "### > (iii) math. a word to the wise.\n",
    "\n",
    "numpy math is pretty much always element-wise. that's kinda it, really"
   ]
  },
  {
   "cell_type": "code",
   "execution_count": 114,
   "id": "increased-taiwan",
   "metadata": {
    "scrolled": true
   },
   "outputs": [
    {
     "name": "stdout",
     "output_type": "stream",
     "text": [
      "[ 2.  3.  4.  5.  6.  7.  8.  9. 10. 11.]\n",
      "[ 0. -1. -2. -3. -4. -5. -6. -7. -8. -9.]\n",
      "[ 1.  2.  3.  4.  5.  6.  7.  8.  9. 10.]\n",
      "[1.         0.5        0.33333333 0.25       0.2        0.16666667\n",
      " 0.14285714 0.125      0.11111111 0.1       ]\n"
     ]
    }
   ],
   "source": [
    "a = np.ones(10)\n",
    "b = np.arange(1,11)\n",
    "print(a+b)\n",
    "print(a-b)\n",
    "print(a*b)\n",
    "print(a/b)"
   ]
  },
  {
   "cell_type": "markdown",
   "id": "specified-onion",
   "metadata": {},
   "source": [
    "we also have the built-in methods `sum()`, `diff()`, `multiply()`, and `divide()`, but numpy is written in such a way that calling the `+` operator is a shortcut to `np.sum()`, and so on. __numpy is so fundamental to python that it was allowed to overwrite the basic math operators!__\n",
    "\n",
    "one of the few times where we may not want elementwise operations is when performing dot products. for this, we use the numpy function `dot()`:"
   ]
  },
  {
   "cell_type": "code",
   "execution_count": 117,
   "id": "tamil-academy",
   "metadata": {},
   "outputs": [
    {
     "name": "stdout",
     "output_type": "stream",
     "text": [
      "55\n",
      "55\n",
      "\n",
      "[[0.59694326 0.10712422 0.09280547]\n",
      " [0.81011884 0.64462749 0.08115925]\n",
      " [0.40633398 0.87047878 0.75567186]]\n",
      "\n",
      "[[0.         0.10712422 0.18561094]\n",
      " [0.         0.64462749 0.1623185 ]\n",
      " [0.         0.87047878 1.51134371]]\n"
     ]
    }
   ],
   "source": [
    "# inner product\n",
    "a = np.arange(1,6)\n",
    "b = np.arange(1,6)\n",
    "print(a.dot(b))\n",
    "print(np.dot(a,b))\n",
    "print()\n",
    "\n",
    "# matrix multiplication\n",
    "a = np.random.random((3,3))\n",
    "print(a)\n",
    "print()\n",
    "b = np.diag(np.arange(3))\n",
    "print(a.dot(b))"
   ]
  },
  {
   "cell_type": "markdown",
   "id": "ecological-longitude",
   "metadata": {},
   "source": [
    "__use built-in methods wherever possible.__ never ever write your own numpy methods unless you are 1000% certain the function doesn't already exist.\n",
    "\n",
    "suppose we want to sum every element in an 3-dimensional numpy array. here's how we would do it manually:"
   ]
  },
  {
   "cell_type": "code",
   "execution_count": 103,
   "id": "useful-broadcasting",
   "metadata": {},
   "outputs": [
    {
     "name": "stdout",
     "output_type": "stream",
     "text": [
      "Time: 0.16793274879455566 seconds\n",
      "Appx 0.0016793274879455566 seconds per sum\n"
     ]
    }
   ],
   "source": [
    "def sum_with_loop(a):\n",
    "    a_sum = 0\n",
    "    for i in range(a.shape[0]):\n",
    "        for j in range(a.shape[1]):\n",
    "            for n in range(a.shape[2]):\n",
    "                a_sum += a[i,j,n]\n",
    "    return a_sum\n",
    "\n",
    "# timing how long it takes to do this 100 times\n",
    "t0 = time.time()\n",
    "for i in range(100):\n",
    "    a = np.random.uniform(size=(100,10,5))\n",
    "    a_sum = sum_with_loop(a)\n",
    "t1 = time.time()\n",
    "print(f\"Time: {t1 - t0} seconds\")\n",
    "print(f\"Appx {(t1-t0)/100} seconds per sum\")"
   ]
  },
  {
   "cell_type": "markdown",
   "id": "robust-exclusive",
   "metadata": {},
   "source": [
    "compare this to the built-in method:"
   ]
  },
  {
   "cell_type": "code",
   "execution_count": 104,
   "id": "spatial-cardiff",
   "metadata": {},
   "outputs": [
    {
     "name": "stdout",
     "output_type": "stream",
     "text": [
      "Time: 0.007706880569458008 seconds\n",
      "Appx 7.706880569458008e-05 seconds per sum\n"
     ]
    }
   ],
   "source": [
    "t0 = time.time()\n",
    "\n",
    "for i in range(100):\n",
    "    a = np.random.uniform(size=(100,10,5))\n",
    "    a_sum = np.sum(a)\n",
    "t1 = time.time()\n",
    "print(f\"Time: {t1 - t0} seconds\")\n",
    "print(f\"Appx {(t1-t0)/100} seconds per sum\")"
   ]
  },
  {
   "cell_type": "markdown",
   "id": "rubber-commission",
   "metadata": {},
   "source": [
    "using the built-in version is approximately 100 times faster for even such a simple example. trying to implement methods like `mean()` are often 4-5 orders of magnitude slower in native python, since all of the built-in methods are written in C (a compiled language) and therefore outperform anything you could ever write in python.\n",
    "\n",
    "in fact, let's take a look at the [documentation!](https://numpy.org/doc/stable/reference/routines.math.html)"
   ]
  },
  {
   "cell_type": "markdown",
   "id": "corresponding-mention",
   "metadata": {},
   "source": [
    "## __BREAK__"
   ]
  },
  {
   "cell_type": "markdown",
   "id": "functional-spine",
   "metadata": {},
   "source": [
    "### > (v) broadcasting, an introduction.\n",
    "\n",
    "when we have a large array and a smaller array, we often want to use the smaller array many times on the larger, e.g. a matrix whose columns we want to add the same vector to. we could stack the vector several times to get it to the correct dimension before adding the two, but numpy has a \"broadcasting mechanism\" that allows us to skip this often very-time-consuming step.\n",
    "\n",
    "in a nutshell, there are 5 rules to broadcasting:\n",
    "1. if two arrays do not have the same rank, add one dimension on the left until they do (i.e. 'prepend' it)\n",
    "  - e.g. if we have a.shape = (3,3,10) and b.shape = (10), then b gets recast as b.shape = (1,1,10)\n",
    "2. two arrays are \"compatible\" in a dimension if either\n",
    "  - they have the same size in that dimension (e.g. (1,3,5) and (4,3,2) are compatible in dimension 2)\n",
    "  - one or both has size one in that dimension\n",
    "3. arrays can be broadcast only if they are compatible in all dimensions\n",
    "4. the resulting array after broadcasting has the maximum size between the two broadcasted arrays at each dimension \n",
    "  - (1,3,5) and (4,3,1) gets broadcast to (4,3,5)\n",
    "5. if array 1 has size 1 in a dimension, and array 2 has size > 1 in that dimension, the broadcast array acts as if it were copied along that dimension\n",
    "  - in the example for (4), the values corresponding to dimension 1 (with size 1) get copied 4 times; i.e., [3] gets broadcast to [3, 3, 3, 3]\n",
    "  \n",
    "i personally find it very confusing, so let's take a look at some examples."
   ]
  },
  {
   "cell_type": "code",
   "execution_count": 118,
   "id": "revised-specific",
   "metadata": {},
   "outputs": [
    {
     "name": "stdout",
     "output_type": "stream",
     "text": [
      "[[ 4  5]\n",
      " [ 8 10]\n",
      " [12 15]]\n",
      "\n",
      "[[2 4 6]\n",
      " [5 7 9]]\n",
      "\n",
      "[[ 5  6  7]\n",
      " [ 9 10 11]]\n",
      "\n",
      "[[ 5  6  7]\n",
      " [ 9 10 11]]\n",
      "\n",
      "[[ 2  4  6]\n",
      " [ 8 10 12]]\n"
     ]
    }
   ],
   "source": [
    "# source: https://cs231n.github.io/python-numpy-tutorial/\n",
    "# Compute outer product of vectors\n",
    "v = np.array([1,2,3])  # v has shape (3,)\n",
    "w = np.array([4,5])    # w has shape (2,)\n",
    "# To compute an outer product, we first reshape v to be a column\n",
    "# vector of shape (3, 1); we can then broadcast it against w to yield\n",
    "# an output of shape (3, 2), which is the outer product of v and w:\n",
    "# [[ 4  5]\n",
    "#  [ 8 10]\n",
    "#  [12 15]]\n",
    "print(np.reshape(v, (3, 1)) * w)\n",
    "print(\"\")\n",
    "\n",
    "# Add a vector to each row of a matrix\n",
    "x = np.array([[1,2,3], [4,5,6]])\n",
    "# x has shape (2, 3) and v has shape (3,) so they broadcast to (2, 3),\n",
    "# giving the following matrix:\n",
    "# [[2 4 6]\n",
    "#  [5 7 9]]\n",
    "print(x + v)\n",
    "print()\n",
    "\n",
    "# Add a vector to each column of a matrix\n",
    "# x has shape (2, 3) and w has shape (2,).\n",
    "# If we transpose x then it has shape (3, 2) and can be broadcast\n",
    "# against w to yield a result of shape (3, 2); transposing this result\n",
    "# yields the final result of shape (2, 3) which is the matrix x with\n",
    "# the vector w added to each column. Gives the following matrix:\n",
    "# [[ 5  6  7]\n",
    "#  [ 9 10 11]]\n",
    "print((x.T + w).T)\n",
    "print()\n",
    "# Another solution is to reshape w to be a column vector of shape (2, 1);\n",
    "# we can then broadcast it directly against x to produce the same\n",
    "# output.\n",
    "print(x + np.reshape(w, (2, 1)))\n",
    "print()\n",
    "\n",
    "# Multiply a matrix by a constant:\n",
    "# x has shape (2, 3). Numpy treats scalars as arrays of shape ();\n",
    "# these can be broadcast together to shape (2, 3), producing the\n",
    "# following array:\n",
    "# [[ 2  4  6]\n",
    "#  [ 8 10 12]]\n",
    "print(x * 2)"
   ]
  },
  {
   "cell_type": "markdown",
   "id": "mediterranean-foster",
   "metadata": {},
   "source": [
    "broadcasting is very important when it comes to speeding up your code, as using broadcasting allows numpy's built-in vectorization methods take over. this is especially relevant when running things on supercomputing clusters like Midway, as vectorization allows for distributing the computation over many computing nodes."
   ]
  },
  {
   "cell_type": "markdown",
   "id": "political-disaster",
   "metadata": {},
   "source": [
    "### > (v) worked example.\n",
    "\n",
    "let's go through a problem together, to practice using numpy arrays and methods.\n",
    "\n",
    "__problem:__ let's suppose we collected some data to try to measure some important physical property*, but we suspect there are outliers that would influence the mean. instead, report the median with a 95% confidence interval.\n",
    "\n",
    "__further information__: we are going to be simulating the data, rather than reading in a dataset, because ~i was too lazy to find one~ simulating data is good practice. let's suppose our true value $x$ follows a normal distribution $x \\sim N(\\mu=4, \\sigma^2=2)$, and our outliers $y$ are chi-square distributed $y \\sim \\chi ^2(k=6)$, and approximately 5% of our data is made up of outliers. let's also suppose we have 1000 total data points (appx 9950 'real' and 50 outliers). we will use a bootstrap to approximate the true median and 95% CI.\n",
    "\n",
    "*this is actually the technique used by Simon Newcombe in 1878 to measure the speed of light to an accuracy of about .004% error, despite having 2 outliers in his measurements."
   ]
  },
  {
   "cell_type": "code",
   "execution_count": 179,
   "id": "junior-embassy",
   "metadata": {},
   "outputs": [],
   "source": [
    "# >> all of this will be removed\n",
    "### let's generate our data\n",
    "np.random.seed(2021)\n",
    "n = 1000\n",
    "data = np.random.normal(loc=4, scale=np.sqrt(2), size=n) # true data\n",
    "outliers = np.random.chisquare(df=6, size=n) # outliers\n",
    "\n",
    "# let's use boolean indexing to help us out here\n",
    "replace_idx = np.random.random(n)\n",
    "replace_data = data[replace_idx > .05] # delete any data points that happen to be 'corrupted'\n",
    "\n",
    "replace_outliers = outliers[replace_idx <= .05] # replace the data with their respective outliers\n",
    "data = np.concatenate((replace_data, replace_outliers)) # rejoin the two datasets"
   ]
  },
  {
   "cell_type": "code",
   "execution_count": 180,
   "id": "amended-therapy",
   "metadata": {},
   "outputs": [
    {
     "name": "stdout",
     "output_type": "stream",
     "text": [
      "mean of the data: 4.091153664204938\n",
      "median of the data: 4.061607167196923\n"
     ]
    },
    {
     "data": {
      "image/png": "[encoded data removed]",
      "text/plain": [
       "<Figure size 432x288 with 1 Axes>"
      ]
     },
     "metadata": {
      "needs_background": "light"
     },
     "output_type": "display_data"
    }
   ],
   "source": [
    "# let's take a look at the data distribution:\n",
    "print(f\"mean of the data: {np.mean(data)}\")\n",
    "print(f\"median of the data: {np.median(data)}\")\n",
    "plt.hist(data, bins='scott')\n",
    "plt.axvline(4, color='black') # true mean\n",
    "plt.axvline(np.mean(data), color='red')\n",
    "plt.xlabel(\"Measurement\")\n",
    "plt.ylabel(\"Frequency\")\n",
    "plt.title(\"Data + Corruptions\")\n",
    "plt.show()"
   ]
  },
  {
   "cell_type": "code",
   "execution_count": 181,
   "id": "unusual-edinburgh",
   "metadata": {
    "scrolled": true
   },
   "outputs": [
    {
     "data": {
      "image/png": "[encoded data removed]",
      "text/plain": [
       "<Figure size 432x288 with 1 Axes>"
      ]
     },
     "metadata": {
      "needs_background": "light"
     },
     "output_type": "display_data"
    },
    {
     "name": "stdout",
     "output_type": "stream",
     "text": [
      "median of medians: 4.059570637280403\n",
      "95% CI for median: [3.91613945 4.1538087 ]\n"
     ]
    }
   ],
   "source": [
    "# bootstrapping\n",
    "B = 1000 # number of bootstraps to perform\n",
    "boot_medians = np.empty(B)\n",
    "\n",
    "# lick some boot...straps\n",
    "for i in range(B):\n",
    "    boot_data = np.random.choice(data, size=n, replace=True) # sample 1000 points with replacement\n",
    "    boot_medians[i] = np.median(boot_data) # find median of bootstrap sample\n",
    "\n",
    "# plot the bootstrap medians\n",
    "plt.hist(boot_medians, bins='scott')\n",
    "plt.axvline(np.mean(boot_medians), color='black')\n",
    "plt.xlabel(\"Bootstrap Medians\")\n",
    "plt.ylabel(\"Frequency\")\n",
    "plt.title(\"Results of Simple Bootstrap\")\n",
    "plt.show()\n",
    "print(f\"median of medians: {np.median(boot_medians)}\") # not a great appx....\n",
    "print(f\"95% CI for median: {np.quantile(boot_medians, (.025, .975))}\")"
   ]
  },
  {
   "cell_type": "markdown",
   "id": "backed-cinema",
   "metadata": {},
   "source": [
    "## __BREAK__"
   ]
  },
  {
   "cell_type": "markdown",
   "id": "hungarian-longer",
   "metadata": {},
   "source": [
    "## Part 2: Numerical Methods\n",
    "\n",
    "this section is not meant to be an extensive discussion of numerical methods in python; it will just be a bit of an overview of a handful of the (many) major functions and uses of the `scipy.optimize` library, plus a brief foray into `scipy.interpolate`.\n",
    "\n",
    "a word of warning: whenever you want to break out any of the numerical methods in `scipy`, __READ THE DOCUMENTATION THOROUGHLY__. there are many very similar functions that on the surface appear to do the same thing, but under the hood and in what they accomplish, can be very different. sometimes, you'll need to switch which one you use because the one you chose just won't converge, or it crashed your computer, or there's a weird error that's not real, or etc etc. it's an art, not a science, so click through the actual documentation and check the 'see also' list at the bottom of each page. "
   ]
  },
  {
   "cell_type": "markdown",
   "id": "suspected-soviet",
   "metadata": {},
   "source": [
    "### > (i) finding zeros of functions.\n",
    "\n",
    "one of the most common numerical techniques is finding the zero of a function. sometimes it's finding where our ugly little polynomial crosses the x-axis; sometimes finding the zero of a derivative; but mostly, it's for solving highly nonlinear equations, where we just move all of our terms to one side of the equals sign.\n",
    "\n",
    "if you have a function in analytic form, the best method to use `scipy.optimize.brentq()`; it uses Richard Brent's algorithm. `brentq` requires two parameters beyond the function, which are the end points of the bracket $[a,b]$ we are finding the zero in. it requires that the signs at $a$ and $b$ are opposite, to guarantee the function crosses zero."
   ]
  },
  {
   "cell_type": "code",
   "execution_count": 187,
   "id": "english-partition",
   "metadata": {},
   "outputs": [
    {
     "name": "stdout",
     "output_type": "stream",
     "text": [
      "1.0000000000000002\n",
      "2.0\n",
      "3.0000000000000018\n",
      "0.9999999999999994\n"
     ]
    },
    {
     "ename": "ValueError",
     "evalue": "f(a) and f(b) must have different signs",
     "output_type": "error",
     "traceback": [
      "\u001b[0;31m---------------------------------------------------------------------------\u001b[0m",
      "\u001b[0;31mValueError\u001b[0m                                Traceback (most recent call last)",
      "\u001b[0;32m<ipython-input-187-01979888dadb>\u001b[0m in \u001b[0;36m<module>\u001b[0;34m\u001b[0m\n\u001b[1;32m     14\u001b[0m \u001b[0mprint\u001b[0m\u001b[0;34m(\u001b[0m\u001b[0mroot_suprise\u001b[0m\u001b[0;34m)\u001b[0m\u001b[0;34m\u001b[0m\u001b[0;34m\u001b[0m\u001b[0m\n\u001b[1;32m     15\u001b[0m \u001b[0;34m\u001b[0m\u001b[0m\n\u001b[0;32m---> 16\u001b[0;31m \u001b[0mroot_err\u001b[0m \u001b[0;34m=\u001b[0m \u001b[0mscipy\u001b[0m\u001b[0;34m.\u001b[0m\u001b[0moptimize\u001b[0m\u001b[0;34m.\u001b[0m\u001b[0mbrentq\u001b[0m\u001b[0;34m(\u001b[0m\u001b[0mf\u001b[0m\u001b[0;34m,\u001b[0m \u001b[0;36m0\u001b[0m\u001b[0;34m,\u001b[0m \u001b[0;36m2.5\u001b[0m\u001b[0;34m)\u001b[0m\u001b[0;34m\u001b[0m\u001b[0;34m\u001b[0m\u001b[0m\n\u001b[0m\u001b[1;32m     17\u001b[0m \u001b[0mprint\u001b[0m\u001b[0;34m(\u001b[0m\u001b[0mroot_err\u001b[0m\u001b[0;34m)\u001b[0m\u001b[0;34m\u001b[0m\u001b[0;34m\u001b[0m\u001b[0m\n",
      "\u001b[0;32m/usr/local/lib/python3.9/site-packages/scipy/optimize/zeros.py\u001b[0m in \u001b[0;36mbrentq\u001b[0;34m(f, a, b, args, xtol, rtol, maxiter, full_output, disp)\u001b[0m\n\u001b[1;32m    774\u001b[0m     \u001b[0;32mif\u001b[0m \u001b[0mrtol\u001b[0m \u001b[0;34m<\u001b[0m \u001b[0m_rtol\u001b[0m\u001b[0;34m:\u001b[0m\u001b[0;34m\u001b[0m\u001b[0;34m\u001b[0m\u001b[0m\n\u001b[1;32m    775\u001b[0m         \u001b[0;32mraise\u001b[0m \u001b[0mValueError\u001b[0m\u001b[0;34m(\u001b[0m\u001b[0;34m\"rtol too small (%g < %g)\"\u001b[0m \u001b[0;34m%\u001b[0m \u001b[0;34m(\u001b[0m\u001b[0mrtol\u001b[0m\u001b[0;34m,\u001b[0m \u001b[0m_rtol\u001b[0m\u001b[0;34m)\u001b[0m\u001b[0;34m)\u001b[0m\u001b[0;34m\u001b[0m\u001b[0;34m\u001b[0m\u001b[0m\n\u001b[0;32m--> 776\u001b[0;31m     \u001b[0mr\u001b[0m \u001b[0;34m=\u001b[0m \u001b[0m_zeros\u001b[0m\u001b[0;34m.\u001b[0m\u001b[0m_brentq\u001b[0m\u001b[0;34m(\u001b[0m\u001b[0mf\u001b[0m\u001b[0;34m,\u001b[0m \u001b[0ma\u001b[0m\u001b[0;34m,\u001b[0m \u001b[0mb\u001b[0m\u001b[0;34m,\u001b[0m \u001b[0mxtol\u001b[0m\u001b[0;34m,\u001b[0m \u001b[0mrtol\u001b[0m\u001b[0;34m,\u001b[0m \u001b[0mmaxiter\u001b[0m\u001b[0;34m,\u001b[0m \u001b[0margs\u001b[0m\u001b[0;34m,\u001b[0m \u001b[0mfull_output\u001b[0m\u001b[0;34m,\u001b[0m \u001b[0mdisp\u001b[0m\u001b[0;34m)\u001b[0m\u001b[0;34m\u001b[0m\u001b[0;34m\u001b[0m\u001b[0m\n\u001b[0m\u001b[1;32m    777\u001b[0m     \u001b[0;32mreturn\u001b[0m \u001b[0mresults_c\u001b[0m\u001b[0;34m(\u001b[0m\u001b[0mfull_output\u001b[0m\u001b[0;34m,\u001b[0m \u001b[0mr\u001b[0m\u001b[0;34m)\u001b[0m\u001b[0;34m\u001b[0m\u001b[0;34m\u001b[0m\u001b[0m\n\u001b[1;32m    778\u001b[0m \u001b[0;34m\u001b[0m\u001b[0m\n",
      "\u001b[0;31mValueError\u001b[0m: f(a) and f(b) must have different signs"
     ]
    }
   ],
   "source": [
    "def f(x):\n",
    "    return x**3 - 6*x**2 + 11*x - 6\n",
    "\n",
    "root = scipy.optimize.brentq(f, .5, 1.5)\n",
    "print(root)\n",
    "\n",
    "root2 = scipy.optimize.brentq(f, 1.5, 2.5)\n",
    "print(root2)\n",
    "\n",
    "root3 = scipy.optimize.brentq(f, 2.5, 10)\n",
    "print(root3)\n",
    "\n",
    "root_suprise = scipy.optimize.brentq(f, 0, 10)\n",
    "print(root_suprise)\n",
    "\n",
    "root_err = scipy.optimize.brentq(f, 0, 2.5)\n",
    "print(root_err)"
   ]
  },
  {
   "cell_type": "markdown",
   "id": "differential-excuse",
   "metadata": {},
   "source": [
    "now let's try something like $(x^2-1) \\sin(x) = 2x \\cos(x)$"
   ]
  },
  {
   "cell_type": "code",
   "execution_count": 201,
   "id": "sporting-armenia",
   "metadata": {},
   "outputs": [
    {
     "name": "stdout",
     "output_type": "stream",
     "text": [
      "1.3065423741888063\n"
     ]
    }
   ],
   "source": [
    "# rewrite function to (x^2-1)sinx - 2x cosx = 0\n",
    "def f(x):\n",
    "    return (x**2 - 1) * np.sin(x) - 2*x*np.cos(x)\n",
    "\n",
    "root = scipy.optimize.brentq(f, 1, 1.5)\n",
    "print(root)"
   ]
  },
  {
   "cell_type": "markdown",
   "id": "driving-nothing",
   "metadata": {},
   "source": [
    "a more sophisticated, but considerably more likely to break, method is the `fsolve()` function. it allows us to give an approximation to the root if we would like to choose one:"
   ]
  },
  {
   "cell_type": "code",
   "execution_count": 198,
   "id": "universal-change",
   "metadata": {},
   "outputs": [
    {
     "name": "stdout",
     "output_type": "stream",
     "text": [
      "[3.]\n",
      "[1.]\n"
     ]
    }
   ],
   "source": [
    "def f(x):\n",
    "    return x**3 - 6*x**2 + 11*x - 6\n",
    "\n",
    "root = scipy.optimize.fsolve(f, 4)\n",
    "print(root)\n",
    "\n",
    "root2 = scipy.optimize.fsolve(f, 0)\n",
    "print(root2)"
   ]
  },
  {
   "cell_type": "markdown",
   "id": "instructional-serve",
   "metadata": {},
   "source": [
    "`fsolve` is also able to solve nonlinear system of equations, such as this one:\n",
    "\n",
    "$x \\cos(y) - 4 = 0$\n",
    "\n",
    "$xy - y - 5 = 0$"
   ]
  },
  {
   "cell_type": "code",
   "execution_count": 200,
   "id": "optimum-sharp",
   "metadata": {},
   "outputs": [
    {
     "name": "stdout",
     "output_type": "stream",
     "text": [
      "[6.50409711 0.90841421]\n"
     ]
    }
   ],
   "source": [
    "def func(x):\n",
    "    return [x[0] * np.cos(x[1]) - 4,\n",
    "            x[0] * x[1] - x[1] - 5]\n",
    "\n",
    "root = scipy.optimize.fsolve(func, [1, 1])\n",
    "print(root)"
   ]
  },
  {
   "cell_type": "markdown",
   "id": "romantic-netherlands",
   "metadata": {},
   "source": [
    "`fsolve` allows you to use multidimensional functions, as well as giving a starting estimate to one-dimensional functions (which would allow us to choose the root that brentq finds in the first example), but the algorithm is prone to failure, so use with caution."
   ]
  },
  {
   "cell_type": "markdown",
   "id": "velvet-password",
   "metadata": {},
   "source": [
    "### > (ii) `scipy.optimize.minimize`\n",
    "\n",
    "`minimize` allows us to solve a constrained equation, which is incredibly common within economics. here's a simple example.\n",
    "\n",
    "given our equation, $f(x) = (x-1)^2 + (y-2.5)^2 = 0$, we have the following constraints:  \n",
    "\n",
    "$x - 2y + 2 \\geq 0$\n",
    "\n",
    "$-x - 2y + 6 \\geq 0$\n",
    "\n",
    "$-x + 2y + 2 \\geq 0$\n",
    "\n",
    "both $x$ and $y$ must be greater than 0."
   ]
  },
  {
   "cell_type": "code",
   "execution_count": 196,
   "id": "differential-watch",
   "metadata": {
    "collapsed": true
   },
   "outputs": [
    {
     "ename": "TypeError",
     "evalue": "unsupported operand type(s) for -: 'NoneType' and 'NoneType'",
     "output_type": "error",
     "traceback": [
      "\u001b[0;31m---------------------------------------------------------------------------\u001b[0m",
      "\u001b[0;31mTypeError\u001b[0m                                 Traceback (most recent call last)",
      "\u001b[0;32m<ipython-input-196-c76e208bd741>\u001b[0m in \u001b[0;36m<module>\u001b[0;34m\u001b[0m\n\u001b[1;32m      9\u001b[0m \u001b[0mbnds\u001b[0m \u001b[0;34m=\u001b[0m \u001b[0;34m(\u001b[0m\u001b[0;34m(\u001b[0m\u001b[0;36m0\u001b[0m\u001b[0;34m,\u001b[0m \u001b[0;32mNone\u001b[0m\u001b[0;34m)\u001b[0m\u001b[0;34m,\u001b[0m \u001b[0;34m(\u001b[0m\u001b[0;36m0\u001b[0m\u001b[0;34m,\u001b[0m \u001b[0;32mNone\u001b[0m\u001b[0;34m)\u001b[0m\u001b[0;34m)\u001b[0m\u001b[0;34m\u001b[0m\u001b[0;34m\u001b[0m\u001b[0m\n\u001b[1;32m     10\u001b[0m \u001b[0;34m\u001b[0m\u001b[0m\n\u001b[0;32m---> 11\u001b[0;31m \u001b[0mres\u001b[0m \u001b[0;34m=\u001b[0m \u001b[0mscipy\u001b[0m\u001b[0;34m.\u001b[0m\u001b[0moptimize\u001b[0m\u001b[0;34m.\u001b[0m\u001b[0mminimize\u001b[0m\u001b[0;34m(\u001b[0m\u001b[0mf\u001b[0m\u001b[0;34m,\u001b[0m \u001b[0;34m(\u001b[0m\u001b[0;36m2\u001b[0m\u001b[0;34m,\u001b[0m \u001b[0;36m1\u001b[0m\u001b[0;34m)\u001b[0m\u001b[0;34m,\u001b[0m \u001b[0mbounds\u001b[0m\u001b[0;34m=\u001b[0m\u001b[0mbnds\u001b[0m\u001b[0;34m,\u001b[0m \u001b[0mconstraints\u001b[0m\u001b[0;34m=\u001b[0m\u001b[0mcons\u001b[0m\u001b[0;34m)\u001b[0m\u001b[0;34m\u001b[0m\u001b[0;34m\u001b[0m\u001b[0m\n\u001b[0m\u001b[1;32m     12\u001b[0m \u001b[0mprint\u001b[0m\u001b[0;34m(\u001b[0m\u001b[0mres\u001b[0m\u001b[0;34m)\u001b[0m\u001b[0;34m\u001b[0m\u001b[0;34m\u001b[0m\u001b[0m\n",
      "\u001b[0;32m/usr/local/lib/python3.9/site-packages/scipy/optimize/_minimize.py\u001b[0m in \u001b[0;36mminimize\u001b[0;34m(fun, x0, args, method, jac, hess, hessp, bounds, constraints, tol, callback, options)\u001b[0m\n\u001b[1;32m    625\u001b[0m         \u001b[0;32mreturn\u001b[0m \u001b[0m_minimize_cobyla\u001b[0m\u001b[0;34m(\u001b[0m\u001b[0mfun\u001b[0m\u001b[0;34m,\u001b[0m \u001b[0mx0\u001b[0m\u001b[0;34m,\u001b[0m \u001b[0margs\u001b[0m\u001b[0;34m,\u001b[0m \u001b[0mconstraints\u001b[0m\u001b[0;34m,\u001b[0m \u001b[0;34m**\u001b[0m\u001b[0moptions\u001b[0m\u001b[0;34m)\u001b[0m\u001b[0;34m\u001b[0m\u001b[0;34m\u001b[0m\u001b[0m\n\u001b[1;32m    626\u001b[0m     \u001b[0;32melif\u001b[0m \u001b[0mmeth\u001b[0m \u001b[0;34m==\u001b[0m \u001b[0;34m'slsqp'\u001b[0m\u001b[0;34m:\u001b[0m\u001b[0;34m\u001b[0m\u001b[0;34m\u001b[0m\u001b[0m\n\u001b[0;32m--> 627\u001b[0;31m         return _minimize_slsqp(fun, x0, args, jac, bounds,\n\u001b[0m\u001b[1;32m    628\u001b[0m                                constraints, callback=callback, **options)\n\u001b[1;32m    629\u001b[0m     \u001b[0;32melif\u001b[0m \u001b[0mmeth\u001b[0m \u001b[0;34m==\u001b[0m \u001b[0;34m'trust-constr'\u001b[0m\u001b[0;34m:\u001b[0m\u001b[0;34m\u001b[0m\u001b[0;34m\u001b[0m\u001b[0m\n",
      "\u001b[0;32m/usr/local/lib/python3.9/site-packages/scipy/optimize/slsqp.py\u001b[0m in \u001b[0;36m_minimize_slsqp\u001b[0;34m(func, x0, args, jac, bounds, constraints, maxiter, ftol, iprint, disp, eps, callback, finite_diff_rel_step, **unknown_options)\u001b[0m\n\u001b[1;32m    373\u001b[0m \u001b[0;34m\u001b[0m\u001b[0m\n\u001b[1;32m    374\u001b[0m     \u001b[0;31m# ScalarFunction provides function and gradient evaluation\u001b[0m\u001b[0;34m\u001b[0m\u001b[0;34m\u001b[0m\u001b[0;34m\u001b[0m\u001b[0m\n\u001b[0;32m--> 375\u001b[0;31m     sf = _prepare_scalar_function(func, x, jac=jac, args=args, epsilon=eps,\n\u001b[0m\u001b[1;32m    376\u001b[0m                                   \u001b[0mfinite_diff_rel_step\u001b[0m\u001b[0;34m=\u001b[0m\u001b[0mfinite_diff_rel_step\u001b[0m\u001b[0;34m,\u001b[0m\u001b[0;34m\u001b[0m\u001b[0;34m\u001b[0m\u001b[0m\n\u001b[1;32m    377\u001b[0m                                   bounds=new_bounds)\n",
      "\u001b[0;32m/usr/local/lib/python3.9/site-packages/scipy/optimize/optimize.py\u001b[0m in \u001b[0;36m_prepare_scalar_function\u001b[0;34m(fun, x0, jac, args, bounds, epsilon, finite_diff_rel_step, hess)\u001b[0m\n\u001b[1;32m    259\u001b[0m     \u001b[0;31m# ScalarFunction caches. Reuse of fun(x) during grad\u001b[0m\u001b[0;34m\u001b[0m\u001b[0;34m\u001b[0m\u001b[0;34m\u001b[0m\u001b[0m\n\u001b[1;32m    260\u001b[0m     \u001b[0;31m# calculation reduces overall function evaluations.\u001b[0m\u001b[0;34m\u001b[0m\u001b[0;34m\u001b[0m\u001b[0;34m\u001b[0m\u001b[0m\n\u001b[0;32m--> 261\u001b[0;31m     sf = ScalarFunction(fun, x0, args, grad, hess,\n\u001b[0m\u001b[1;32m    262\u001b[0m                         finite_diff_rel_step, bounds, epsilon=epsilon)\n\u001b[1;32m    263\u001b[0m \u001b[0;34m\u001b[0m\u001b[0m\n",
      "\u001b[0;32m/usr/local/lib/python3.9/site-packages/scipy/optimize/_differentiable_functions.py\u001b[0m in \u001b[0;36m__init__\u001b[0;34m(self, fun, x0, args, grad, hess, finite_diff_rel_step, finite_diff_bounds, epsilon)\u001b[0m\n\u001b[1;32m    153\u001b[0m \u001b[0;34m\u001b[0m\u001b[0m\n\u001b[1;32m    154\u001b[0m         \u001b[0mself\u001b[0m\u001b[0;34m.\u001b[0m\u001b[0m_update_grad_impl\u001b[0m \u001b[0;34m=\u001b[0m \u001b[0mupdate_grad\u001b[0m\u001b[0;34m\u001b[0m\u001b[0;34m\u001b[0m\u001b[0m\n\u001b[0;32m--> 155\u001b[0;31m         \u001b[0mself\u001b[0m\u001b[0;34m.\u001b[0m\u001b[0m_update_grad\u001b[0m\u001b[0;34m(\u001b[0m\u001b[0;34m)\u001b[0m\u001b[0;34m\u001b[0m\u001b[0;34m\u001b[0m\u001b[0m\n\u001b[0m\u001b[1;32m    156\u001b[0m \u001b[0;34m\u001b[0m\u001b[0m\n\u001b[1;32m    157\u001b[0m         \u001b[0;31m# Hessian Evaluation\u001b[0m\u001b[0;34m\u001b[0m\u001b[0;34m\u001b[0m\u001b[0;34m\u001b[0m\u001b[0m\n",
      "\u001b[0;32m/usr/local/lib/python3.9/site-packages/scipy/optimize/_differentiable_functions.py\u001b[0m in \u001b[0;36m_update_grad\u001b[0;34m(self)\u001b[0m\n\u001b[1;32m    229\u001b[0m     \u001b[0;32mdef\u001b[0m \u001b[0m_update_grad\u001b[0m\u001b[0;34m(\u001b[0m\u001b[0mself\u001b[0m\u001b[0;34m)\u001b[0m\u001b[0;34m:\u001b[0m\u001b[0;34m\u001b[0m\u001b[0;34m\u001b[0m\u001b[0m\n\u001b[1;32m    230\u001b[0m         \u001b[0;32mif\u001b[0m \u001b[0;32mnot\u001b[0m \u001b[0mself\u001b[0m\u001b[0;34m.\u001b[0m\u001b[0mg_updated\u001b[0m\u001b[0;34m:\u001b[0m\u001b[0;34m\u001b[0m\u001b[0;34m\u001b[0m\u001b[0m\n\u001b[0;32m--> 231\u001b[0;31m             \u001b[0mself\u001b[0m\u001b[0;34m.\u001b[0m\u001b[0m_update_grad_impl\u001b[0m\u001b[0;34m(\u001b[0m\u001b[0;34m)\u001b[0m\u001b[0;34m\u001b[0m\u001b[0;34m\u001b[0m\u001b[0m\n\u001b[0m\u001b[1;32m    232\u001b[0m             \u001b[0mself\u001b[0m\u001b[0;34m.\u001b[0m\u001b[0mg_updated\u001b[0m \u001b[0;34m=\u001b[0m \u001b[0;32mTrue\u001b[0m\u001b[0;34m\u001b[0m\u001b[0;34m\u001b[0m\u001b[0m\n\u001b[1;32m    233\u001b[0m \u001b[0;34m\u001b[0m\u001b[0m\n",
      "\u001b[0;32m/usr/local/lib/python3.9/site-packages/scipy/optimize/_differentiable_functions.py\u001b[0m in \u001b[0;36mupdate_grad\u001b[0;34m()\u001b[0m\n\u001b[1;32m    149\u001b[0m                 \u001b[0mself\u001b[0m\u001b[0;34m.\u001b[0m\u001b[0m_update_fun\u001b[0m\u001b[0;34m(\u001b[0m\u001b[0;34m)\u001b[0m\u001b[0;34m\u001b[0m\u001b[0;34m\u001b[0m\u001b[0m\n\u001b[1;32m    150\u001b[0m                 \u001b[0mself\u001b[0m\u001b[0;34m.\u001b[0m\u001b[0mngev\u001b[0m \u001b[0;34m+=\u001b[0m \u001b[0;36m1\u001b[0m\u001b[0;34m\u001b[0m\u001b[0;34m\u001b[0m\u001b[0m\n\u001b[0;32m--> 151\u001b[0;31m                 self.g = approx_derivative(fun_wrapped, self.x, f0=self.f,\n\u001b[0m\u001b[1;32m    152\u001b[0m                                            **finite_diff_options)\n\u001b[1;32m    153\u001b[0m \u001b[0;34m\u001b[0m\u001b[0m\n",
      "\u001b[0;32m/usr/local/lib/python3.9/site-packages/scipy/optimize/_numdiff.py\u001b[0m in \u001b[0;36mapprox_derivative\u001b[0;34m(fun, x0, method, rel_step, abs_step, f0, bounds, sparsity, as_linear_operator, args, kwargs)\u001b[0m\n\u001b[1;32m    484\u001b[0m \u001b[0;34m\u001b[0m\u001b[0m\n\u001b[1;32m    485\u001b[0m         \u001b[0;32mif\u001b[0m \u001b[0msparsity\u001b[0m \u001b[0;32mis\u001b[0m \u001b[0;32mNone\u001b[0m\u001b[0;34m:\u001b[0m\u001b[0;34m\u001b[0m\u001b[0;34m\u001b[0m\u001b[0m\n\u001b[0;32m--> 486\u001b[0;31m             return _dense_difference(fun_wrapped, x0, f0, h,\n\u001b[0m\u001b[1;32m    487\u001b[0m                                      use_one_sided, method)\n\u001b[1;32m    488\u001b[0m         \u001b[0;32melse\u001b[0m\u001b[0;34m:\u001b[0m\u001b[0;34m\u001b[0m\u001b[0;34m\u001b[0m\u001b[0m\n",
      "\u001b[0;32m/usr/local/lib/python3.9/site-packages/scipy/optimize/_numdiff.py\u001b[0m in \u001b[0;36m_dense_difference\u001b[0;34m(fun, x0, f0, h, use_one_sided, method)\u001b[0m\n\u001b[1;32m    555\u001b[0m             \u001b[0mx\u001b[0m \u001b[0;34m=\u001b[0m \u001b[0mx0\u001b[0m \u001b[0;34m+\u001b[0m \u001b[0mh_vecs\u001b[0m\u001b[0;34m[\u001b[0m\u001b[0mi\u001b[0m\u001b[0;34m]\u001b[0m\u001b[0;34m\u001b[0m\u001b[0;34m\u001b[0m\u001b[0m\n\u001b[1;32m    556\u001b[0m             \u001b[0mdx\u001b[0m \u001b[0;34m=\u001b[0m \u001b[0mx\u001b[0m\u001b[0;34m[\u001b[0m\u001b[0mi\u001b[0m\u001b[0;34m]\u001b[0m \u001b[0;34m-\u001b[0m \u001b[0mx0\u001b[0m\u001b[0;34m[\u001b[0m\u001b[0mi\u001b[0m\u001b[0;34m]\u001b[0m  \u001b[0;31m# Recompute dx as exactly representable number.\u001b[0m\u001b[0;34m\u001b[0m\u001b[0;34m\u001b[0m\u001b[0m\n\u001b[0;32m--> 557\u001b[0;31m             \u001b[0mdf\u001b[0m \u001b[0;34m=\u001b[0m \u001b[0mfun\u001b[0m\u001b[0;34m(\u001b[0m\u001b[0mx\u001b[0m\u001b[0;34m)\u001b[0m \u001b[0;34m-\u001b[0m \u001b[0mf0\u001b[0m\u001b[0;34m\u001b[0m\u001b[0;34m\u001b[0m\u001b[0m\n\u001b[0m\u001b[1;32m    558\u001b[0m         \u001b[0;32melif\u001b[0m \u001b[0mmethod\u001b[0m \u001b[0;34m==\u001b[0m \u001b[0;34m'3-point'\u001b[0m \u001b[0;32mand\u001b[0m \u001b[0muse_one_sided\u001b[0m\u001b[0;34m[\u001b[0m\u001b[0mi\u001b[0m\u001b[0;34m]\u001b[0m\u001b[0;34m:\u001b[0m\u001b[0;34m\u001b[0m\u001b[0;34m\u001b[0m\u001b[0m\n\u001b[1;32m    559\u001b[0m             \u001b[0mx1\u001b[0m \u001b[0;34m=\u001b[0m \u001b[0mx0\u001b[0m \u001b[0;34m+\u001b[0m \u001b[0mh_vecs\u001b[0m\u001b[0;34m[\u001b[0m\u001b[0mi\u001b[0m\u001b[0;34m]\u001b[0m\u001b[0;34m\u001b[0m\u001b[0;34m\u001b[0m\u001b[0m\n",
      "\u001b[0;31mTypeError\u001b[0m: unsupported operand type(s) for -: 'NoneType' and 'NoneType'"
     ]
    }
   ],
   "source": [
    "# recast (x,y) into np.array([x0, x1])\n",
    "def f(x): \n",
    "    (x[0] - 1)**2 + (x[1] - 2.5)**2\n",
    "\n",
    "# constraints\n",
    "cons = ({'type': 'ineq', 'fun': lambda x:  x[0] - 2 * x[1] + 2}, \n",
    "        {'type': 'ineq', 'fun': lambda x: -x[0] - 2 * x[1] + 6}, \n",
    "        {'type': 'ineq', 'fun': lambda x: -x[0] + 2 * x[1] + 2})\n",
    "bnds = ((0, None), (0, None))\n",
    "\n",
    "res = scipy.optimize.minimize(f, (2, 1), bounds=bnds, constraints=cons)\n",
    "print(res)"
   ]
  },
  {
   "cell_type": "markdown",
   "id": "wicked-istanbul",
   "metadata": {},
   "source": [
    "this is exactly what i mean, theoretically this should just be (1.4, 1.7), but go figure. i give up. i hate numerical methods."
   ]
  },
  {
   "cell_type": "markdown",
   "id": "discrete-toddler",
   "metadata": {},
   "source": [
    "### > (iii) simple integration and differentiation.\n",
    "\n",
    "the functions we are about to see only work with analytic functions.\n",
    "\n",
    "below, the examples are: \n",
    "\n",
    "$ \\int_{0}^4 x^2 dx $\n",
    "\n",
    "$ \\int_0^\\infty e^{-x} dx $\n",
    "\n",
    "$ \\frac{d}{dx} x^3 + x^2 |(x=1) $"
   ]
  },
  {
   "cell_type": "code",
   "execution_count": 203,
   "id": "continued-external",
   "metadata": {},
   "outputs": [
    {
     "name": "stdout",
     "output_type": "stream",
     "text": [
      "21.333333333333336\n",
      "1.0000000000000002\n"
     ]
    }
   ],
   "source": [
    "# integration\n",
    "x2 = lambda x: x**2\n",
    "y, err = scipy.integrate.quad(x2, 0, 4)\n",
    "print(y)\n",
    "\n",
    "invexp = lambda x: np.exp(-x)\n",
    "y, err = scipy.integrate.quad(invexp, 0, np.inf)\n",
    "print(y)"
   ]
  },
  {
   "cell_type": "code",
   "execution_count": 207,
   "id": "sufficient-reverse",
   "metadata": {},
   "outputs": [
    {
     "name": "stdout",
     "output_type": "stream",
     "text": [
      "4.999999999921734\n"
     ]
    }
   ],
   "source": [
    "# differentiation\n",
    "def f(x):\n",
    "    return x**3 + x**2\n",
    "\n",
    "der = scipy.misc.derivative(f, 1.0, dx=1e-6)\n",
    "print(der)"
   ]
  },
  {
   "cell_type": "markdown",
   "id": "underlying-jackson",
   "metadata": {},
   "source": [
    "### > (iv) scipy.interpolate\n",
    "\n",
    "the `interpolate` class is considerably more powerful when it comes to research. this is a python class (like we discussed tuesday) that generates an `interpolate` object.\n",
    "\n",
    "interpolation is a method of smoothing raw data. there are many, many, methods, but the most common is polynomial interpolation, also called 'splining'. it fits polynomials to subsets of the data, then joins them where they overlap, to form a smooth, continuous, differentiable curve that approximates the original data. naturally, the higher order the polynomial, the better the fit to the data, but having too high an order will overfit your data and ruin any meaningful interpretation you may have had. \n",
    "\n",
    "rule of thumb is to use cubic polynomial splines to perform interpolation."
   ]
  },
  {
   "cell_type": "code",
   "execution_count": 219,
   "id": "responsible-material",
   "metadata": {},
   "outputs": [
    {
     "data": {
      "image/png": "[encoded data removed]",
      "text/plain": [
       "<Figure size 432x288 with 1 Axes>"
      ]
     },
     "metadata": {
      "needs_background": "light"
     },
     "output_type": "display_data"
    }
   ],
   "source": [
    "x = np.linspace(-3, 3, 50)\n",
    "y = np.exp(-x**2) + 0.1 * np.random.random(size=50)\n",
    "plt.plot(x, y, 'ro', ms=5)\n",
    "\n",
    "# create the UnivariateSpline object, spl\n",
    "spl = scipy.interpolate.UnivariateSpline(x, y)\n",
    "\n",
    "# where to evaluate the spline\n",
    "xs = np.linspace(-3, 3, 1000)\n",
    "\n",
    "# why we always tune the smoothing factor\n",
    "plt.plot(xs, spl(xs), 'g', lw=3)\n",
    "spl.set_smoothing_factor(0.25)\n",
    "plt.plot(xs, spl(xs), 'b', lw=3)\n",
    "plt.title(\"UnivariateSpline Example\")\n",
    "plt.show()"
   ]
  },
  {
   "cell_type": "code",
   "execution_count": 220,
   "id": "higher-agency",
   "metadata": {
    "scrolled": true
   },
   "outputs": [
    {
     "data": {
      "image/png": "[encoded data removed]",
      "text/plain": [
       "<Figure size 432x288 with 1 Axes>"
      ]
     },
     "metadata": {
      "needs_background": "light"
     },
     "output_type": "display_data"
    }
   ],
   "source": [
    "# using the spline to find the derivative\n",
    "spl_1d = spl.derivative()\n",
    "plt.plot(xs, spl_1d(xs))\n",
    "plt.title(\"Derivative using UnivariateSpline\")\n",
    "plt.show()"
   ]
  },
  {
   "cell_type": "code",
   "execution_count": 221,
   "id": "identified-damages",
   "metadata": {},
   "outputs": [
    {
     "data": {
      "image/png": "[encoded data removed]",
      "text/plain": [
       "<Figure size 432x288 with 1 Axes>"
      ]
     },
     "metadata": {
      "needs_background": "light"
     },
     "output_type": "display_data"
    }
   ],
   "source": [
    "# and to find the integral\n",
    "spl_1i = spl.antiderivative()\n",
    "plt.plot(xs, spl_1i(xs))\n",
    "plt.title(\"Antiderivative using UnivariateSpline\")\n",
    "plt.show()"
   ]
  },
  {
   "cell_type": "markdown",
   "id": "sapphire-tonight",
   "metadata": {},
   "source": [
    "many other methods exist for this class, such as finding the value of all derivatives at a single point, calculating a definite integral, finding the zeros of the spline, etc. it is an incredibly useful tool when doing equation modeling during research, and I highly recommend familiarizing yourself with it if you do such work."
   ]
  }
 ],
 "metadata": {
  "kernelspec": {
   "display_name": "Python 3",
   "language": "python",
   "name": "python3"
  },
  "language_info": {
   "codemirror_mode": {
    "name": "ipython",
    "version": 3
   },
   "file_extension": ".py",
   "mimetype": "text/x-python",
   "name": "python",
   "nbconvert_exporter": "python",
   "pygments_lexer": "ipython3",
   "version": "3.9.4"
  }
 },
 "nbformat": 4,
 "nbformat_minor": 5
}
