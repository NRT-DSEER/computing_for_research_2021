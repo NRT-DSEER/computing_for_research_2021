{
 "cells": [
  {
   "cell_type": "markdown",
   "id": "social-panama",
   "metadata": {},
   "source": [
    "# day 1: python review + advanced methods\n",
    "\n",
    "## agenda\n",
    "1. introductions. syllabus. recordings. expectations.\n",
    "2. github.\n",
    "3. jupyter notebooks.\n",
    "4. googling your way to success.  \n",
    "  \n",
    "  _break_  \n",
    "  \n",
    "  \n",
    "5. python you should know. functions.\n",
    "6. list comprehensions.\n",
    "7. classes.  \n",
    "\n",
    "  _break_\n",
    "\n",
    "\n",
    "8. blackjack.\n",
    "9. extensions. further reading."
   ]
  },
  {
   "cell_type": "markdown",
   "id": "informal-limitation",
   "metadata": {},
   "source": [
    "## 1. introductions. syllabus. recordings. expectations.\n",
    "\n",
    "- meet your instructors\n",
    "- meet your TAs\n",
    "- how this bootcamp is going to work, logistically (esp. recording policy)\n",
    "- our goals for you\n",
    "- brief syllabus overview"
   ]
  },
  {
   "cell_type": "markdown",
   "id": "patent-store",
   "metadata": {},
   "source": [
    "## 2. github.\n",
    "\n",
    "- add, commit, push\n",
    "- pull\n",
    "- mention of other features (branches, merges, tickets)"
   ]
  },
  {
   "cell_type": "markdown",
   "id": "immediate-click",
   "metadata": {},
   "source": [
    "## 3. jupyter notebooks.\n",
    "\n",
    "- can run chunks of code without the whole script\n",
    "- will save things in memory (complimentary)\n",
    "- will save things in memory (derogatory)\n",
    "- shortcuts (on welcome.ipynb):\n",
    "  - a, b, m, cmnd+enter\n",
    "  - Markdown reference: <https://www.ibm.com/docs/en/watson-studio-local/1.2.3?topic=notebooks-markdown-jupyter-cheatsheet>\n",
    "  - headers, double spaces, italics, bold, lists, `code`\n",
    "  - latex: $\\int_{10}^{13}2xdx$"
   ]
  },
  {
   "cell_type": "markdown",
   "id": "mobile-infection",
   "metadata": {},
   "source": [
    "## 4. googling your way to success.\n",
    "\n",
    "when in doubt, stack overflow it\n",
    "\n",
    "e.g. from later today: how do i shuffle an array in python\n",
    "\n",
    "the other thing is to look at documentation."
   ]
  },
  {
   "cell_type": "markdown",
   "id": "painful-system",
   "metadata": {},
   "source": [
    "# BREAK\n",
    "### 5 minutes"
   ]
  },
  {
   "cell_type": "markdown",
   "id": "cosmetic-occupation",
   "metadata": {},
   "source": [
    "## 5. python you should know. functions.\n",
    "\n",
    "- `if`/`elif`/`else`\n",
    "- `for` loops\n",
    "- `while` loops\n",
    "- accessing array elements\n",
    "- function review"
   ]
  },
  {
   "cell_type": "code",
   "execution_count": 58,
   "id": "least-syracuse",
   "metadata": {},
   "outputs": [],
   "source": [
    "### running list of imports for this notebook\n",
    "# why is this important? so when you re-run this after closing it, your imports aren't \n",
    "# out of order and you accidentally call things where you shouldn't\n",
    "from random import random, randint, seed\n",
    "from math import sqrt #>>"
   ]
  },
  {
   "cell_type": "code",
   "execution_count": 21,
   "id": "forty-exhaust",
   "metadata": {},
   "outputs": [
    {
     "name": "stdout",
     "output_type": "stream",
     "text": [
      "   ^   \n",
      "  / \\  \n",
      " /   \\ \n",
      "|  |  |\n",
      "|  |  |\n",
      "\\  \\  /\n",
      " \\  \\/ \n",
      " /\\  \\ \n",
      "/  \\  \\\n",
      "|  |  |\n",
      "|  |  |\n",
      " \\   / \n",
      "  \\ /  \n",
      "   v   \n"
     ]
    }
   ],
   "source": [
    "# if/elif/else + for loop\n",
    "        \n",
    "for i in range(14):\n",
    "    if i%13 == 0:\n",
    "        if i==13:\n",
    "            print(\"   v   \")\n",
    "        else:\n",
    "            print(\"   ^   \")\n",
    "    elif i==3 or i==4 or i==9 or i==10:\n",
    "        print(\"|  |  |\")\n",
    "    elif i==1:\n",
    "        print(\"  / \\  \")\n",
    "    elif i==12:\n",
    "        print(\"  \\ /  \")\n",
    "    elif i==2:\n",
    "        print(\" /   \\ \")\n",
    "    elif i==11:\n",
    "        print(\" \\   / \")\n",
    "    elif i==5:\n",
    "        print(\"\\  \\  /\")\n",
    "    elif i ==6:\n",
    "        print(\" \\  \\/ \")\n",
    "    elif i==7:\n",
    "        print(\" /\\  \\ \")\n",
    "    else:\n",
    "        print(\"/  \\  \\\\\")\n",
    "        "
   ]
  },
  {
   "cell_type": "code",
   "execution_count": 35,
   "id": "unexpected-religious",
   "metadata": {},
   "outputs": [
    {
     "name": "stdout",
     "output_type": "stream",
     "text": [
      "duck\n",
      "duck\n",
      "duck\n",
      "goose\n"
     ]
    }
   ],
   "source": [
    "# while loop\n",
    "seed(4)\n",
    "r = randint(2,5)\n",
    "while r > 0:\n",
    "    print(\"duck\")\n",
    "    r -= 1\n",
    "print(\"goose\")"
   ]
  },
  {
   "cell_type": "code",
   "execution_count": 23,
   "id": "ongoing-testimony",
   "metadata": {},
   "outputs": [
    {
     "name": "stdout",
     "output_type": "stream",
     "text": [
      "she's broken because she believed\n",
      "he's ok because he lied\n"
     ]
    }
   ],
   "source": [
    "# accessing arrays\n",
    "s = \"she\\'s broken because she believed\"\n",
    "secret = s[1:5] + \" \" + s[8:10] + \" \" + s[13:20] + \" \" + s[22:24] + \" \" + s[27:30] + s[-1]\n",
    "print(s)\n",
    "print(secret)"
   ]
  },
  {
   "cell_type": "markdown",
   "id": "central-option",
   "metadata": {},
   "source": [
    "### functions - review.\n",
    "\n",
    "note: functions are also called __methods__, especially in the context of classes and objects. (see part 7)\n",
    "\n",
    "syntax:"
   ]
  },
  {
   "cell_type": "code",
   "execution_count": 25,
   "id": "approximate-corps",
   "metadata": {},
   "outputs": [
    {
     "data": {
      "text/plain": [
       "':)'"
      ]
     },
     "execution_count": 25,
     "metadata": {},
     "output_type": "execute_result"
    }
   ],
   "source": [
    "# brief overview of what your function does\n",
    "# arg1: describe this parameter\n",
    "# arg2: ^\n",
    "# stuff: ^^\n",
    "# return: what does your function return?\n",
    "def my_function(arg1, arg2, stuff=\":)\"):\n",
    "    '''\n",
    "    do function-y stuff in here\n",
    "    '''\n",
    "    \n",
    "    return stuff\n",
    "\n",
    "# call the function\n",
    "my_function(arg1=\"hello\", arg2=\"world\")"
   ]
  },
  {
   "cell_type": "markdown",
   "id": "fluid-remove",
   "metadata": {},
   "source": [
    "let's practice with functions a bit. we're going to write a shuffle function!\n",
    "\n",
    "__problem__: given an array of length n, return a shuffled version of it. the only built-in functions you may use are:\n",
    "- `random.randint()` (remember, `randint(a,b)` gives you a random integer between `a` and `b`, inclusive!)\n",
    "- `pop()`\n",
    "- `append()`\n",
    "\n",
    "__a starting point__: the Fisher-Yates Shuffle* is an easy algorithm to use here. it works like this:\n",
    "\n",
    "0. Starting array\n",
    "  `a = [A B C D E F G H]`\n",
    "1. First swap:\n",
    "  - we have 8 letters to start, so choose a random number between 1 and 8.\n",
    "  - we get 3\n",
    "  - remove the 3rd letter from `a` (i.e. 'C') and copy it to a new, shuffled array `b`:\n",
    "  - `a = [A B D E F G H]`\n",
    "  - `b = [C]`\n",
    "2. Second swap:\n",
    "  - we now have only 7 letters; choose randomly from 1 to 7.\n",
    "  - we get 4\n",
    "  - remove the 4th letter of the updated `a` array (i.e., 'E') and copy it over to `b`\n",
    "  - `a = [A B D F G H]`\n",
    "  - `b = [C E]`\n",
    "3. Third, Fourth, etc. swaps:\n",
    "  - as above, until only one letter remains in `a`\n",
    "4. Final swap:\n",
    "  - move the remaining letter of `a` to `b`; in this example, only `B` remains\n",
    "  - `a = []`\n",
    "  - `b = [C E G D H A F B]`\n",
    "5. Return the shuffled array:\n",
    "  - `return b`\n",
    "\n",
    "\\*Durstenfeld improved this algorithm slightly so that the elements of the array get swapped, rather than creating a new array and copying things over. It is much better memory-wise for large arrays, but slightly harder to implement."
   ]
  },
  {
   "cell_type": "markdown",
   "id": "stainless-characterization",
   "metadata": {},
   "source": [
    "Take 10 minutes to see if you can solve this on your own! And make sure to comment your code!!"
   ]
  },
  {
   "cell_type": "code",
   "execution_count": null,
   "id": "expected-harmony",
   "metadata": {},
   "outputs": [],
   "source": [
    "def fy_shuffle():\n",
    "    # your code here #\n",
    "\n",
    "    \n",
    "# testing\n",
    "seed(69)\n",
    "fy_shuffle(list(range(1,11))) # shuffle the numbers 1 to 10"
   ]
  },
  {
   "cell_type": "code",
   "execution_count": 53,
   "id": "buried-facility",
   "metadata": {},
   "outputs": [
    {
     "data": {
      "text/plain": [
       "[7, 6, 4, 9, 8, 2, 1, 10, 3, 5]"
      ]
     },
     "execution_count": 53,
     "metadata": {},
     "output_type": "execute_result"
    }
   ],
   "source": [
    "# >>solution\n",
    "# Fisher-Yates Shuffle\n",
    "# a: initial array of size n\n",
    "# return: array b, a shuffled copy of a\n",
    "def fy_shuffle(a):\n",
    "    n = len(a)\n",
    "    b = [] # shuffled array\n",
    "    \n",
    "    while n > 1:\n",
    "        idx = randint(0, n-1) # subtract 1 for indexing reasons\n",
    "        swap = a.pop(idx) # remove random element from a...\n",
    "        b.append(swap) # ...and append it to b\n",
    "        n -= 1\n",
    "    b.append(a.pop(0)) # append the final element of a to b\n",
    "    \n",
    "    return b\n",
    " \n",
    "seed(69420)\n",
    "fy_shuffle(list(range(1,11)))"
   ]
  },
  {
   "cell_type": "markdown",
   "id": "disabled-speed",
   "metadata": {},
   "source": [
    "nice! could we have just used `random.shuffle()`? maybe. but why make things easy?"
   ]
  },
  {
   "cell_type": "markdown",
   "id": "confused-tracy",
   "metadata": {},
   "source": [
    "## 6. list comprehensions.  \n",
    "\n",
    "- why use them?\n",
    "- basic list comprehensions\n",
    "- conditionals\n",
    "- 2d arrays\n",
    "- zip\n",
    "- words of caution"
   ]
  },
  {
   "cell_type": "markdown",
   "id": "ideal-grave",
   "metadata": {},
   "source": [
    "### (i) why.\n",
    "\n",
    "list comprehensions are a shorter, (usually) more readable version of a for loop. not all for loops can be written as a list comprehension, but anytime you're doing something like applying the same function to each element of a list, list comprehensions are a faster, more elegant way of doing it."
   ]
  },
  {
   "cell_type": "markdown",
   "id": "saving-medline",
   "metadata": {},
   "source": [
    "### (ii) basic list comprehensions."
   ]
  },
  {
   "cell_type": "code",
   "execution_count": null,
   "id": "stock-princeton",
   "metadata": {},
   "outputs": [],
   "source": [
    "# syntax - don't execute this block unless you find error messages aesthetic\n",
    "\n",
    "# for loop:\n",
    "new_list = []\n",
    "for item in iterable:\n",
    "    new_list.append(item)\n",
    "    \n",
    "# list comprehension 'translation':\n",
    "new_list = [expression for item in iterable]"
   ]
  },
  {
   "cell_type": "markdown",
   "id": "cubic-parking",
   "metadata": {},
   "source": [
    "we're going to do a few examples together before i turn you loose "
   ]
  },
  {
   "cell_type": "code",
   "execution_count": 56,
   "id": "minimal-archives",
   "metadata": {},
   "outputs": [
    {
     "name": "stdout",
     "output_type": "stream",
     "text": [
      "[0.45611964897696833, 0.9033231539802643, 0.4343754968307887, 0.5006266907917188, 0.8113594841043066]\n",
      "[0.5536737425539718, 0.7121747682476842, 0.1231420937871801, 0.8147597621524992, 0.3854936732156333]\n"
     ]
    }
   ],
   "source": [
    "# example 1 - sequence of random numbers from 0 to 1\n",
    "# problem: random.random() only returns a single number. \n",
    "# what if we want 5, 10, 100 random numbers in a single array?\n",
    "\n",
    "seed(666)\n",
    "\n",
    "# for loop version:\n",
    "rand_list = []\n",
    "for i in range(5):\n",
    "    rand_list.append(random())\n",
    "print(rand_list)\n",
    "\n",
    "#>> list comp version\n",
    "rand_list2 = [random() for i in range(5)]\n",
    "print(rand_list2)"
   ]
  },
  {
   "cell_type": "code",
   "execution_count": 55,
   "id": "continuous-partner",
   "metadata": {},
   "outputs": [
    {
     "name": "stdout",
     "output_type": "stream",
     "text": [
      "[1, 2, 3, 4, 5]\n",
      "[1, 2, 3, 4, 5]\n"
     ]
    }
   ],
   "source": [
    "# example 2 - casting str to int\n",
    "numbers_as_strings = [\"1\", \"2\", \"3\", \"4\", \"5\"]\n",
    "\n",
    "# for loop version\n",
    "num = []\n",
    "for s in numbers_as_strings:\n",
    "    num.append(int(s))\n",
    "print(num)\n",
    "\n",
    "#>>list comp version\n",
    "num2 = [int(s) for s in numbers_as_strings]\n",
    "print(num2)"
   ]
  },
  {
   "cell_type": "markdown",
   "id": "premier-exclusion",
   "metadata": {},
   "source": [
    "example 3 - find standard error from variance\n",
    "\n",
    "$se(X) = \\sqrt{\\frac{var(X)}{n}}$"
   ]
  },
  {
   "cell_type": "code",
   "execution_count": 59,
   "id": "signal-quarter",
   "metadata": {},
   "outputs": [
    {
     "name": "stdout",
     "output_type": "stream",
     "text": [
      "[13.436424411240122, 84.74337369372327, 76.3774618976614, 25.50690257394217, 49.54350870919409]\n",
      "[0.5183902856196309, 1.3018707592823742, 1.2359406288140333, 0.7142394916824771, 0.9954246200410566]\n",
      "[0.5183902856196309, 1.3018707592823742, 1.2359406288140333, 0.7142394916824771, 0.9954246200410566]\n"
     ]
    }
   ],
   "source": [
    "# generate a list of variances:\n",
    "seed(1)\n",
    "var = [random()*100 for i in range(5)]\n",
    "print(var)\n",
    "\n",
    "# for loop version\n",
    "se = []\n",
    "for v in var:\n",
    "    se.append(sqrt(v/50))\n",
    "print(se)\n",
    "\n",
    "# list comp version\n",
    "se2 = [sqrt(v/50) for v in var]\n",
    "print(se2)"
   ]
  },
  {
   "cell_type": "markdown",
   "id": "laden-johnson",
   "metadata": {},
   "source": [
    "### your turn!  \n",
    "\n",
    "we can define our own functions and apply them using a list comprehension. here's a bit of a throwback from undergrad physics.  \n",
    "\n",
    "__problem__: given an initial velocity and an acceleration constant, calculate the change in position for a sequence of times.\n",
    "\n",
    "helpful equation:  \n",
    "$\\Delta x = v_0t + \\frac{1}{2}at^2$"
   ]
  },
  {
   "cell_type": "code",
   "execution_count": 60,
   "id": "baking-bunny",
   "metadata": {},
   "outputs": [
    {
     "name": "stdout",
     "output_type": "stream",
     "text": [
      "[4.9, 19.6, 44.1, 78.4, 122.5, 176.4, 240.10000000000002, 313.6, 396.90000000000003, 490.0, 592.9000000000001, 705.6, 828.1, 960.4000000000001, 1102.5, 1254.4, 1416.1000000000001, 1587.6000000000001, 1768.9, 1960.0, 2160.9, 2371.6000000000004, 2592.1, 2822.4, 3062.5000000000005, 3312.4, 3572.1000000000004, 3841.6000000000004, 4120.900000000001]\n"
     ]
    }
   ],
   "source": [
    "# here are your constants -- let's just do freefall\n",
    "time_in_sec = list(range(1, 30))\n",
    "v0 = 0 # m/s\n",
    "a = 9.8 # m/s^2\n",
    "\n",
    "# >>\n",
    "# t:  time, in seconds\n",
    "# v0: initial velocity, m/s\n",
    "# a:  acceleration constant, m/s^2\n",
    "# return: change in position from time t=0 to t=t\n",
    "def change_pos(t, v0, a):\n",
    "    return v0*t + .5*a*t*t\n",
    "\n",
    "change_in_pos = [change_pos(t, v0, a) for t in time_in_sec]\n",
    "print(change_in_pos)"
   ]
  },
  {
   "cell_type": "markdown",
   "id": "deluxe-islam",
   "metadata": {},
   "source": [
    "### (iii) conditionals.\n",
    "\n",
    "we can easily add in conditional statements to list comprehensions; the syntax is just\n",
    "\n",
    "`new_list = [expression for item in iterable if condition == True]`"
   ]
  },
  {
   "cell_type": "code",
   "execution_count": 61,
   "id": "blessed-calvin",
   "metadata": {},
   "outputs": [
    {
     "name": "stdout",
     "output_type": "stream",
     "text": [
      "[1, 3, 5, 7, 9, 11, 13, 15, 17, 19]\n"
     ]
    }
   ],
   "source": [
    "# let's filter out all the even numbers from a list\n",
    "# >>\n",
    "int_list = list(range(1,20))\n",
    "odd_only = [x for x in int_list if x%2==1]\n",
    "print(odd_only)"
   ]
  },
  {
   "cell_type": "markdown",
   "id": "searching-minneapolis",
   "metadata": {},
   "source": [
    "### (iv) 2d arrays.\n",
    "\n",
    "if you have a matrix, here's how you would apply a function to every element. in this case, we are multiplying every element by 2: \n",
    "\n",
    "`new_2d_list = [[i*2 for i in row] for row in old_2d_list]`"
   ]
  },
  {
   "cell_type": "code",
   "execution_count": 62,
   "id": "higher-school",
   "metadata": {},
   "outputs": [
    {
     "name": "stdout",
     "output_type": "stream",
     "text": [
      "[[1, 2, 3], [4, 5, 6], [7, 8, 9]]\n",
      "[[1, 2, 3, 1, 2, 3], [4, 5, 6, 4, 5, 6], [7, 8, 9, 7, 8, 9]]\n",
      "[[2, 4, 6], [8, 10, 12], [14, 16, 18]]\n",
      "[[2, 4, 6], [8, 10, 12], [14, 16, 18]]\n"
     ]
    }
   ],
   "source": [
    "# >> create our matrix...\n",
    "m = [[1,2,3],[4,5,6],[7,8,9]]\n",
    "print(m)\n",
    "\n",
    "# 'regular' list comprehension doesn't do what we want\n",
    "m_err = [x*2 for x in m]\n",
    "print(m_err)\n",
    "\n",
    "# instead, let's write it as a for loop:\n",
    "for i in range(len(m)):\n",
    "    for j in range(len(m[i])):\n",
    "        m[i][j] *= 2\n",
    "print(m)\n",
    "\n",
    "# correct solution\n",
    "m = [[1,2,3],[4,5,6],[7,8,9]] # because we changed it in the for loop\n",
    "m2 = [[n*2 for n in row] for row in m]\n",
    "print(m2)"
   ]
  },
  {
   "cell_type": "markdown",
   "id": "multiple-marine",
   "metadata": {},
   "source": [
    "### (v) zip.\n",
    "\n",
    "`zip()` is a very useful python function that allows us to join two (or more) arrays together into a list of tuples. for example:"
   ]
  },
  {
   "cell_type": "code",
   "execution_count": 64,
   "id": "featured-checklist",
   "metadata": {},
   "outputs": [
    {
     "name": "stdout",
     "output_type": "stream",
     "text": [
      "[(1, 6), (2, 7), (3, 8), (4, 9), (5, 0)]\n"
     ]
    }
   ],
   "source": [
    "a = [1,2,3,4,5]\n",
    "b = [6,7,8,9,0]\n",
    "print(list(zip(a,b)))"
   ]
  },
  {
   "cell_type": "markdown",
   "id": "civilian-subsection",
   "metadata": {},
   "source": [
    "we can take advantage of this behavior to use list comprehensions on functions that have more than one parameter. try finding the radius of a circle given its x and y components:\n",
    "\n",
    "$x^2 + y^2 = r^2$"
   ]
  },
  {
   "cell_type": "code",
   "execution_count": 66,
   "id": "vulnerable-signal",
   "metadata": {},
   "outputs": [
    {
     "name": "stdout",
     "output_type": "stream",
     "text": [
      "[1.1282824927658632, 0.8032700253614131, 0.08427186985105095, 1.1905335881416743, 0.9686615090506389]\n"
     ]
    }
   ],
   "source": [
    "seed(1234)\n",
    "x_list = [random() for i in range(5)]\n",
    "y_list = [random() for i in range(5)]\n",
    "\n",
    "# >>\n",
    "def find_radius(x,y):\n",
    "    return sqrt(x*x + y*y)\n",
    "\n",
    "radii = [find_radius(x,y) for x,y in zip(x_list, y_list)]\n",
    "print(radii)"
   ]
  },
  {
   "cell_type": "markdown",
   "id": "grave-melissa",
   "metadata": {},
   "source": [
    "### (vi) words of caution.\n",
    "\n",
    "when shouldn't we use list comprehensions over a for loop? there are two major cases you'll run into:\n",
    "\n",
    "1. functions that don't return anything\n",
    "2. list construction"
   ]
  },
  {
   "cell_type": "code",
   "execution_count": 67,
   "id": "current-latvia",
   "metadata": {},
   "outputs": [
    {
     "name": "stdout",
     "output_type": "stream",
     "text": [
      "0\n",
      "1\n",
      "2\n",
      "3\n",
      "4\n",
      "5\n",
      "6\n",
      "7\n",
      "8\n",
      "9\n",
      "[None, None, None, None, None, None, None, None, None, None]\n"
     ]
    }
   ],
   "source": [
    "# case 1. don't do this\n",
    "out = [print(i) for i in range(10)]\n",
    "print(out)"
   ]
  },
  {
   "cell_type": "code",
   "execution_count": 68,
   "id": "greatest-throat",
   "metadata": {},
   "outputs": [
    {
     "name": "stdout",
     "output_type": "stream",
     "text": [
      "range(0, 10)\n",
      "[0, 1, 2, 3, 4, 5, 6, 7, 8, 9]\n",
      "[0, 1, 2, 3, 4, 5, 6, 7, 8, 9]\n"
     ]
    }
   ],
   "source": [
    "# case 2. use the list() constructor\n",
    "r = range(10) # range object\n",
    "print(r)\n",
    "\n",
    "# don't do this!\n",
    "new_list = [x for x in r]\n",
    "print(new_list)\n",
    "\n",
    "#just do this:\n",
    "new_list = list(r)\n",
    "print(new_list)"
   ]
  },
  {
   "cell_type": "markdown",
   "id": "extensive-lending",
   "metadata": {},
   "source": [
    "# BREAK\n",
    "### 10 min"
   ]
  },
  {
   "cell_type": "markdown",
   "id": "elder-vietnam",
   "metadata": {},
   "source": [
    "## 7. classes.\n",
    "\n",
    "- general explanation.\n",
    "- `__init__()` + instance variables.\n",
    "- object methods.\n",
    "- inheritance."
   ]
  },
  {
   "cell_type": "markdown",
   "id": "worse-assumption",
   "metadata": {},
   "source": [
    "### (i) general explanation.\n",
    "\n",
    "what is a class? a generalized instance of an object, obviously... /jk  \n",
    "\n",
    "python is what's known as an 'object-oriented language' (you'll see it written as OO or OOP,  'object-oriented programming'), just like C++ and Java are. this means that we work with objects, as opposed to 'functional languages' like Haskell.\n",
    "\n",
    "an object is just a thing, with properties and methods specific to it. e.g.\n",
    "- strings\n",
    "- arrays\n",
    "- error messages\n",
    "\n",
    "these are actually all classes, because they describe groups of objects. i.e. `\"hello world\"` is a string object, but \"strings\" in the abstract are a class  \n",
    "\n",
    "#### cool, but why do we care...?\n",
    "\n",
    "classes can be incredibly useful. OOP (when done correctly) cuts down on the size of your code considerably, and allows you to not have to repeat the same chunks of code over and over again, only making small changes.  \n",
    "\n",
    "it will often really speed up your code, makes it 10000x more readable.\n",
    "\n",
    "it's best learnt through an example (or at least i think so), so we're going to learn how to create a deck of playing cards through OOP."
   ]
  },
  {
   "cell_type": "markdown",
   "id": "imperial-signature",
   "metadata": {},
   "source": [
    "### (ii) `__init__()` + instance variables.\n",
    "\n",
    "first things first, let's define our class `Card`:\n",
    "\n",
    "n.b.: we are going to be copy-pasting this code a bunch of times, just as an fyi"
   ]
  },
  {
   "cell_type": "code",
   "execution_count": 74,
   "id": "champion-johns",
   "metadata": {},
   "outputs": [],
   "source": [
    "# Card class\n",
    "class Card:\n",
    "    pass"
   ]
  },
  {
   "cell_type": "markdown",
   "id": "stretch-watch",
   "metadata": {},
   "source": [
    "hmmm but what properties should we give our card? maybe we should start with a specific example, like the Queen of Spades:"
   ]
  },
  {
   "cell_type": "code",
   "execution_count": 75,
   "id": "interpreted-equivalent",
   "metadata": {},
   "outputs": [],
   "source": [
    "# Card class:\n",
    "class Card:\n",
    "    #>>\n",
    "    suit = \"Spades\"\n",
    "    rank = \"Queen\"\n",
    "    \n",
    "    pass"
   ]
  },
  {
   "cell_type": "markdown",
   "id": "treated-gauge",
   "metadata": {},
   "source": [
    "not very helpful though, unless we want a deck of just the Queen of Spades. how do we tell python that we just want this one card to be the Queen of Spades?\n",
    "\n",
    "the `self` operator!"
   ]
  },
  {
   "cell_type": "code",
   "execution_count": 76,
   "id": "competitive-military",
   "metadata": {},
   "outputs": [
    {
     "ename": "NameError",
     "evalue": "name 'self' is not defined",
     "output_type": "error",
     "traceback": [
      "\u001b[0;31m---------------------------------------------------------------------------\u001b[0m",
      "\u001b[0;31mNameError\u001b[0m                                 Traceback (most recent call last)",
      "\u001b[0;32m<ipython-input-76-50be451b5db7>\u001b[0m in \u001b[0;36m<module>\u001b[0;34m\u001b[0m\n\u001b[1;32m      1\u001b[0m \u001b[0;31m# Card class:\u001b[0m\u001b[0;34m\u001b[0m\u001b[0;34m\u001b[0m\u001b[0;34m\u001b[0m\u001b[0m\n\u001b[0;32m----> 2\u001b[0;31m \u001b[0;32mclass\u001b[0m \u001b[0mCard\u001b[0m\u001b[0;34m:\u001b[0m\u001b[0;34m\u001b[0m\u001b[0;34m\u001b[0m\u001b[0m\n\u001b[0m\u001b[1;32m      3\u001b[0m     \u001b[0;31m#>>\u001b[0m\u001b[0;34m\u001b[0m\u001b[0;34m\u001b[0m\u001b[0;34m\u001b[0m\u001b[0m\n\u001b[1;32m      4\u001b[0m     \u001b[0mself\u001b[0m\u001b[0;34m.\u001b[0m\u001b[0msuit\u001b[0m \u001b[0;34m=\u001b[0m \u001b[0;34m\"Spades\"\u001b[0m\u001b[0;34m\u001b[0m\u001b[0;34m\u001b[0m\u001b[0m\n\u001b[1;32m      5\u001b[0m     \u001b[0mself\u001b[0m\u001b[0;34m.\u001b[0m\u001b[0mrank\u001b[0m \u001b[0;34m=\u001b[0m \u001b[0;34m\"Queen\"\u001b[0m\u001b[0;34m\u001b[0m\u001b[0;34m\u001b[0m\u001b[0m\n",
      "\u001b[0;32m<ipython-input-76-50be451b5db7>\u001b[0m in \u001b[0;36mCard\u001b[0;34m()\u001b[0m\n\u001b[1;32m      2\u001b[0m \u001b[0;32mclass\u001b[0m \u001b[0mCard\u001b[0m\u001b[0;34m:\u001b[0m\u001b[0;34m\u001b[0m\u001b[0;34m\u001b[0m\u001b[0m\n\u001b[1;32m      3\u001b[0m     \u001b[0;31m#>>\u001b[0m\u001b[0;34m\u001b[0m\u001b[0;34m\u001b[0m\u001b[0;34m\u001b[0m\u001b[0m\n\u001b[0;32m----> 4\u001b[0;31m     \u001b[0mself\u001b[0m\u001b[0;34m.\u001b[0m\u001b[0msuit\u001b[0m \u001b[0;34m=\u001b[0m \u001b[0;34m\"Spades\"\u001b[0m\u001b[0;34m\u001b[0m\u001b[0;34m\u001b[0m\u001b[0m\n\u001b[0m\u001b[1;32m      5\u001b[0m     \u001b[0mself\u001b[0m\u001b[0;34m.\u001b[0m\u001b[0mrank\u001b[0m \u001b[0;34m=\u001b[0m \u001b[0;34m\"Queen\"\u001b[0m\u001b[0;34m\u001b[0m\u001b[0;34m\u001b[0m\u001b[0m\n\u001b[1;32m      6\u001b[0m \u001b[0;34m\u001b[0m\u001b[0m\n",
      "\u001b[0;31mNameError\u001b[0m: name 'self' is not defined"
     ]
    }
   ],
   "source": [
    "# Card class:\n",
    "class Card:\n",
    "    #>>\n",
    "    self.suit = \"Spades\"\n",
    "    self.rank = \"Queen\"\n",
    "    \n",
    "    pass"
   ]
  },
  {
   "cell_type": "markdown",
   "id": "charming-george",
   "metadata": {},
   "source": [
    "well that didn't work...\n",
    "\n",
    "we have to use a fancy python function, the `__init__()` method:"
   ]
  },
  {
   "cell_type": "code",
   "execution_count": 79,
   "id": "conscious-motel",
   "metadata": {},
   "outputs": [],
   "source": [
    "# Card class\n",
    "class Card:\n",
    "    # >>\n",
    "    def __init__(self):\n",
    "        self.suit = \"Spades\"\n",
    "        self.rank = \"Queen\""
   ]
  },
  {
   "cell_type": "markdown",
   "id": "damaged-rating",
   "metadata": {},
   "source": [
    "now, we can create an __instance__ of this Card class, and access its properties with the dot `.` operator. notice the lack of `()`!"
   ]
  },
  {
   "cell_type": "code",
   "execution_count": 80,
   "id": "crude-graphic",
   "metadata": {},
   "outputs": [
    {
     "name": "stdout",
     "output_type": "stream",
     "text": [
      "Spades\n",
      "Queen\n"
     ]
    }
   ],
   "source": [
    "qos = Card()\n",
    "print(qos.suit)\n",
    "print(qos.rank)"
   ]
  },
  {
   "cell_type": "markdown",
   "id": "planned-coral",
   "metadata": {},
   "source": [
    "'suit' and 'rank' are what we call __instance variables__, because they are variables that get assigned when we instantiate (create an instance) a `Card`!  \n",
    "\n",
    "what if we want a generic assignment, so that the `Card` isn't always the QoS?"
   ]
  },
  {
   "cell_type": "code",
   "execution_count": 82,
   "id": "worthy-robertson",
   "metadata": {
    "scrolled": true
   },
   "outputs": [
    {
     "name": "stdout",
     "output_type": "stream",
     "text": [
      "Spades\n",
      "Queen\n",
      "Hearts\n",
      "Ace\n"
     ]
    }
   ],
   "source": [
    "# Card class\n",
    "class Card:\n",
    "    def __init__(self, suit, rank):\n",
    "        self.suit = suit\n",
    "        self.rank = rank\n",
    "\n",
    "qos = Card(\"Spades\", \"Queen\")\n",
    "print(qos.suit)\n",
    "print(qos.rank)\n",
    "\n",
    "aoh = Card(\"Hearts\", \"Ace\")\n",
    "print(aoh.suit)\n",
    "print(aoh.rank)"
   ]
  },
  {
   "cell_type": "markdown",
   "id": "precise-sample",
   "metadata": {},
   "source": [
    "### (iii) object methods.\n",
    "\n",
    "now we can make any card we want, but how do we make it like,,,do things? object methods!\n",
    "\n",
    "object methods are methods that every instance of a class has access to. `__init__()` is an object method, but that's kinda trivial. what about a function that returns the rank and suit of the card?"
   ]
  },
  {
   "cell_type": "code",
   "execution_count": 83,
   "id": "incorporated-technology",
   "metadata": {},
   "outputs": [
    {
     "name": "stdout",
     "output_type": "stream",
     "text": [
      "Queen\n",
      "Spades\n"
     ]
    }
   ],
   "source": [
    "class Card:\n",
    "    def __init__(self, suit, rank):\n",
    "        self.suit = suit\n",
    "        self.rank = rank\n",
    "        \n",
    "    def get_suit(self):\n",
    "        return self.suit\n",
    "    \n",
    "    def get_rank(self):\n",
    "        return self.rank\n",
    "    \n",
    "qos = Card(\"Queen\", \"Spades\")\n",
    "print(qos.get_suit())\n",
    "print(qos.get_rank())"
   ]
  },
  {
   "cell_type": "markdown",
   "id": "figured-launch",
   "metadata": {},
   "source": [
    "in general, it's bad form to do `qos.suit`. messing with object variables like that usually leads to some nasty bugs, so if you want to access some of the properties of your class, use `get()` functions!\n",
    "\n",
    "of course, we can have fancier methods than just `get()`. let's try doing some Unicode printing!"
   ]
  },
  {
   "cell_type": "code",
   "execution_count": 87,
   "id": "small-division",
   "metadata": {},
   "outputs": [
    {
     "name": "stdout",
     "output_type": "stream",
     "text": [
      "Q♠\n",
      "A♥️\n",
      "5?\n"
     ]
    }
   ],
   "source": [
    "class Card:\n",
    "    def __init__(self, suit, rank):\n",
    "        self.suit = suit\n",
    "        self.rank = rank\n",
    "        \n",
    "    def get_suit(self):\n",
    "        return self.suit\n",
    "\n",
    "    def get_rank(self):\n",
    "        return self.rank\n",
    "    \n",
    "    def display(self):\n",
    "        s = \"\"\n",
    "        if self.suit == \"Hearts\": s = '\\u2665\\ufe0f'\n",
    "        elif self.suit == \"Diamonds\": s = '\\u2666\\ufe0f'\n",
    "        elif self.suit == \"Clubs\": s = '\\u2663'\n",
    "        elif self.suit == \"Spades\": s = '\\u2660'\n",
    "        else: s = '?'\n",
    "            \n",
    "        print(self.rank + s)\n",
    "\n",
    "qos = Card(\"Spades\", \"Q\")\n",
    "qos.display()\n",
    "aoh = Card(\"Hearts\", \"A\")\n",
    "aoh.display()\n",
    "err = Card(\"Clubbs\", \"5\")\n",
    "err.display()"
   ]
  },
  {
   "cell_type": "markdown",
   "id": "macro-header",
   "metadata": {},
   "source": [
    "### (iv) inheritance.\n",
    "\n",
    "classes can 'inherit' from other classes. all this means is that it takes the `__init__()` and other class methods from its parent, and then can add to and/or overwrite those instance variables and methods.  \n",
    "\n",
    "suppose we want a more generalized `Card` class, that allows for jokers (that don't have a suit). it would look something like this:  "
   ]
  },
  {
   "cell_type": "code",
   "execution_count": 90,
   "id": "unexpected-banana",
   "metadata": {},
   "outputs": [
    {
     "name": "stdout",
     "output_type": "stream",
     "text": [
      "Joker\n",
      "Joker\n",
      "Q\n",
      "Spades\n",
      "Q♠\n"
     ]
    },
    {
     "ename": "AttributeError",
     "evalue": "'genericCard' object has no attribute 'get_suit'",
     "output_type": "error",
     "traceback": [
      "\u001b[0;31m---------------------------------------------------------------------------\u001b[0m",
      "\u001b[0;31mAttributeError\u001b[0m                            Traceback (most recent call last)",
      "\u001b[0;32m<ipython-input-90-6be2d1c4d3d1>\u001b[0m in \u001b[0;36m<module>\u001b[0;34m\u001b[0m\n\u001b[1;32m     45\u001b[0m \u001b[0mqos\u001b[0m\u001b[0;34m.\u001b[0m\u001b[0mdisplay\u001b[0m\u001b[0;34m(\u001b[0m\u001b[0;34m)\u001b[0m\u001b[0;34m\u001b[0m\u001b[0;34m\u001b[0m\u001b[0m\n\u001b[1;32m     46\u001b[0m \u001b[0;34m\u001b[0m\u001b[0m\n\u001b[0;32m---> 47\u001b[0;31m \u001b[0mprint\u001b[0m\u001b[0;34m(\u001b[0m\u001b[0mj\u001b[0m\u001b[0;34m.\u001b[0m\u001b[0mget_suit\u001b[0m\u001b[0;34m(\u001b[0m\u001b[0;34m)\u001b[0m\u001b[0;34m)\u001b[0m \u001b[0;31m# returns an error!\u001b[0m\u001b[0;34m\u001b[0m\u001b[0;34m\u001b[0m\u001b[0m\n\u001b[0m",
      "\u001b[0;31mAttributeError\u001b[0m: 'genericCard' object has no attribute 'get_suit'"
     ]
    }
   ],
   "source": [
    "# the parent, the less specific version\n",
    "class genericCard:\n",
    "    def __init__(self, rank):\n",
    "        self.rank = rank\n",
    "    \n",
    "    def get_rank(self):\n",
    "        return self.rank\n",
    "    \n",
    "    def display(self):\n",
    "        print(self.rank)\n",
    "\n",
    "        \n",
    "# the child, the playing card\n",
    "class Card(genericCard):\n",
    "    def __init__(self, suit, rank):\n",
    "        super().__init__(rank)\n",
    "        self.suit = suit\n",
    "    \n",
    "    # automatically inherits get_rank()\n",
    "    \n",
    "    # have to add get_suit()\n",
    "    def get_suit(self):\n",
    "        return self.suit\n",
    "    \n",
    "    # we want to override genericCard's display() function,\n",
    "    # so we explicitly include it here:\n",
    "    def display(self):\n",
    "        s = \"\"\n",
    "        if self.suit == \"Hearts\": s = '\\u2665\\ufe0f'\n",
    "        elif self.suit == \"Diamonds\": s = '\\u2666\\ufe0f'\n",
    "        elif self.suit == \"Clubs\": s = '\\u2663'\n",
    "        elif self.suit == \"Spades\": s = '\\u2660'\n",
    "        else: s = '?'\n",
    "            \n",
    "        print(self.rank + s)\n",
    "    \n",
    "# examples\n",
    "j = genericCard(\"Joker\")\n",
    "qos = Card(\"Spades\", \"Q\")\n",
    "\n",
    "print(j.get_rank())\n",
    "j.display()\n",
    "print(qos.get_rank()) # we didn't code this in the Card class! inheritance babey\n",
    "print(qos.get_suit())\n",
    "qos.display() # returns our fancier version bc we overwrote it\n",
    "\n",
    "print(j.get_suit()) # returns an error!"
   ]
  },
  {
   "cell_type": "markdown",
   "id": "julian-idaho",
   "metadata": {},
   "source": [
    "# BREAK\n",
    "### 5 min"
   ]
  },
  {
   "cell_type": "markdown",
   "id": "vulnerable-publication",
   "metadata": {},
   "source": [
    "## 8. blackjack.\n",
    "\n",
    "to practice what we've learned today, you're going to build a game of blackjack! you (\"the Player\") will play against the computer. if you're not familiar with the game, [Bicycle](https://bicyclecards.com/how-to-play/blackjack/) provides a good introduction.\n",
    "\n",
    "for simplicity of code, we are making a handful of simplifications. here are the rules we'll be following:  \n",
    "- aces are always 11 points (can't choose to make it 1 point after going bust)\n",
    "- all face cards are 10 points, and all pip cards hold their own value (e.g. a 6 is worth 6 points)\n",
    "- no betting; just playing single games\n",
    "- no splitting doubles, no insurance, etc.\n",
    "- since there are only 2 players, dealer and player alternate rather than player finishing before dealer's turn\n",
    "- dealer must make a minimum of 17 before stopping; the player may pass whenever, but they may not hit again after passing\n",
    "- the player can't see the Dealer's first card (it is face down) until the game is over\n",
    "\n",
    "we will provide code for vizualization of the game, but otherwise, we will only give you guidance on what needs done.\n",
    "\n",
    "good luck!"
   ]
  },
  {
   "cell_type": "markdown",
   "id": "impressive-cathedral",
   "metadata": {},
   "source": [
    "first, let's build a `Card` class a bit better than earlier. in addition to suit and rank, we want a parameter that includes the 'value' of the card -- how many points it's worth. there should also be methods that return each of the three instance variables (suit, rank, value). finally, you should include the following method to return the neat display:  "
   ]
  },
  {
   "cell_type": "code",
   "execution_count": null,
   "id": "floral-visitor",
   "metadata": {},
   "outputs": [],
   "source": [
    "def display(self):\n",
    "    s = \"\"\n",
    "    if self.suit == \"h\": s = '\\u2665\\ufe0f' # unicode heart + unicode red coloring\n",
    "    elif self.suit == \"d\": s = '\\u2666\\ufe0f' # ^ diamond\n",
    "    elif self.suit == \"c\": s = '\\u2663' # ^ club, black coloring\n",
    "    elif self.suit == \"s\": s = '\\u2660' # ^ spade, black coloring\n",
    "    return self.rank + s"
   ]
  },
  {
   "cell_type": "code",
   "execution_count": 118,
   "id": "acceptable-circuit",
   "metadata": {},
   "outputs": [],
   "source": [
    "# >> imports, double-counted\n",
    "from random import randint\n",
    "\n",
    "# Card class\n",
    "class Card:\n",
    "    def __init__(self, suit, rank, value):\n",
    "        self.suit = suit\n",
    "        self.rank = rank\n",
    "        self.value = value\n",
    "    \n",
    "    def get_suit(self): return self.suit\n",
    "    def get_rank(self): return self.rank\n",
    "    def get_value(self): return self.value\n",
    "    \n",
    "    def display(self):\n",
    "        s = \"\"\n",
    "        if self.suit == \"h\": s = '\\u2665\\ufe0f'\n",
    "        elif self.suit == \"d\": s = '\\u2666\\ufe0f'\n",
    "        elif self.suit == \"c\": s = '\\u2663'\n",
    "        elif self.suit == \"s\": s = '\\u2660'\n",
    "        return self.rank + s\n"
   ]
  },
  {
   "cell_type": "markdown",
   "id": "charitable-mileage",
   "metadata": {},
   "source": [
    "step 2: let's build a `Deck` class!\n",
    "\n",
    "the goal of our deck class is to have all 52 cards ready to go, with a `shuffle()` method to get a random shuffle of the cards.\n",
    "\n",
    "since the `Deck` is mostly a container for the `Card` class, we don't need any instance variables passed to the `__init__()` function. however, the `__init__()` function should create all 52 cards -- that is, when we call `d = Deck()` later in our code, all 52 `Cards` should be ready to go. \n",
    "\n",
    "why? well if you remember our `shuffle()` method that we made earlier, it returns a shuffled copy of the array (and keeps the original alone). in other words, calling `d.shuffle()` will give us a shuffled deck that we can simply pull the top card off of each time we need to draw one!\n",
    "\n",
    "in summary:\n",
    "- create all 52 `Card`s in a standard deck (making sure to include their point values) in the `__init__()` function\n",
    "  - you should be able to do it with a for loop combined with a list comprehension, if you're up for the challenge!\n",
    "- add the `shuffle()` function from earlier as a separate method\n",
    "- test to make sure your code works so far!"
   ]
  },
  {
   "cell_type": "code",
   "execution_count": null,
   "id": "appreciated-objective",
   "metadata": {},
   "outputs": [],
   "source": [
    "# test code\n",
    "d = Deck()\n",
    "dsh = d.shuffle() # dsh = shuffled deck\n",
    "[c.display() for c in dsh] # should print out all 52 cards in the deck in a random order. \n",
    "# make sure you see all the suits and all the ranks!"
   ]
  },
  {
   "cell_type": "code",
   "execution_count": null,
   "id": "native-appendix",
   "metadata": {},
   "outputs": [],
   "source": [
    "# >> Deck class\n",
    "class Deck:\n",
    "    def __init__(self):\n",
    "        self.suits = ['s', 'h', 'd', 'c']\n",
    "        self.ranks = ['K', 'Q', 'J', '10', '9', '8', '7', '6', '5', '4', '3', '2', 'A']\n",
    "        self.values = [10, 10, 10, 10, 9, 8, 7, 6, 5, 4, 3, 2, 11]\n",
    "        \n",
    "        self.cards = []\n",
    "        for i in range(4):\n",
    "            c = [Card(self.suits[i], self.ranks[j], self.values[j]) \n",
    "                 for j in range(len(self.ranks))]\n",
    "            self.cards += c\n",
    "    \n",
    "    def shuffle(self):\n",
    "        n = len(self.cards)\n",
    "        b = [] # shuffled array\n",
    "    \n",
    "        while n > 1:\n",
    "            b.append(self.cards.pop(randint(0, n-1)))\n",
    "            n -= 1\n",
    "        b.append(self.cards.pop(0)) # append the final element of a to b\n",
    "\n",
    "        return b"
   ]
  },
  {
   "cell_type": "markdown",
   "id": "joined-start",
   "metadata": {},
   "source": [
    "this next part can be confusing, so take your time! we're going to create a `User` class, that is the parent to two more classes -- the `Player` and the `Dealer`\n",
    "\n",
    "`User` class: \n",
    "\n",
    "the `__init__()` function should only take one other parameter, `name`. we use it in displaying the status of the game later. however, we are going to use 3 more instance variables: the `hand`, which is an array containing the cards of the `User`; the `points`, the sum of the values of the cards in the `hand`; and what we call `lost`, which is a boolean (T/F) flag indicating whether the `User` has gone bust. what should these be set to when the `User` is instantiated, before any cards have been dealt?\n",
    "\n",
    "the `User` has several class methods: \n",
    "- `get` methods for `name`, `points`, and `lost`\n",
    "- the remaining three functions are:\n",
    "  - `add_card(self, c)`\n",
    "    - if the `User` has not yet gone bust, then add a `Card` to its `hand` and add the value from that `Card` to the `points` of the `User`. if `User` has already gone bust, do not draw a card.\n",
    "  - `add_points(self, p)`\n",
    "    - increase the `User`'s `points` by `p`. if this new point total takes the `User` over 21, then make sure you indicate the `User` has gone bust!\n",
    "    \n",
    "the last function is used to display the status of the game, and is given to you below:"
   ]
  },
  {
   "cell_type": "code",
   "execution_count": null,
   "id": "severe-couple",
   "metadata": {},
   "outputs": [],
   "source": [
    "def get_status(self):\n",
    "    current_hand = [c.display() for c in self.hand] # displays all the Cards currently in the User's hand\n",
    "    output = \"\"\n",
    "    for i in range(len(current_hand)):\n",
    "        output += current_hand[i] + \" \"\n",
    "    return self.name + \": \" + output # formatting"
   ]
  },
  {
   "cell_type": "markdown",
   "id": "great-photograph",
   "metadata": {},
   "source": [
    "now to make the `Player` and `Dealer` classes:\n",
    "\n",
    "`Player` is quite easy -- the only change is that we provide a `name` to the `super()` constructor. You can use your name, or simply \"You\" or \"Player\" -- whatever you would like. just be sure to pass it in correctly!\n",
    "\n",
    "`Dealer` requires a few changes: \n",
    "- again, give the `super()` constructor a name, like \"Dealer\"\n",
    "- for the `Dealer`, recall we stop playing when their score reaches 17, not 21. overwrite `add_points()` to take care of this\n",
    "- because we have modified `add_points()`, we also have to copy over any method in the parent class that calls it. in this case, just copy over the `add_card` method. no changes, it's just a scope thing\n",
    "- finally, we add a new method that displays all of the `Dealer`'s cards except the first, given to you below:"
   ]
  },
  {
   "cell_type": "code",
   "execution_count": null,
   "id": "suitable-colors",
   "metadata": {},
   "outputs": [],
   "source": [
    "def get_status_secret(self):\n",
    "    current_hand = [c.display() for c in self.hand]\n",
    "    output = \"?? \"\n",
    "    for i in range(1, len(current_hand)):\n",
    "        output += current_hand[i] + \" \"\n",
    "    return self.name + \": \" + output"
   ]
  },
  {
   "cell_type": "code",
   "execution_count": null,
   "id": "offshore-houston",
   "metadata": {},
   "outputs": [],
   "source": [
    "# >>\n",
    "class User:\n",
    "    def __init__(self, name):\n",
    "        self.name = name\n",
    "        self.hand = []\n",
    "        self.points = 0\n",
    "        self.lost = False\n",
    "    \n",
    "    def get_name(self):\n",
    "        return self.name\n",
    "    \n",
    "    def get_points(self):\n",
    "        return self.points\n",
    "    \n",
    "    def get_lost(self):\n",
    "        return self.lost\n",
    "        \n",
    "    def add_card(self, c):\n",
    "        if not self.lost:\n",
    "            self.hand.append(c)\n",
    "            self.add_points(c.get_value())\n",
    "        \n",
    "    def add_points(self, p):\n",
    "        self.points += p\n",
    "        if self.points > 21:\n",
    "            self.lost = True\n",
    "    \n",
    "    def get_status(self):\n",
    "        current_hand = [c.display() for c in self.hand]\n",
    "        output = \"\"\n",
    "        for i in range(len(current_hand)):\n",
    "            output += current_hand[i] + \" \"\n",
    "        return self.name + \": \" + output\n",
    "\n",
    "    \n",
    "    \n",
    "    \n",
    "    \n",
    "class Player(User):\n",
    "    def __init__(self):\n",
    "        super().__init__(\"You\")\n",
    "\n",
    "        \n",
    "        \n",
    "        \n",
    "        \n",
    "class Dealer(User):\n",
    "    def __init__(self):\n",
    "        super().__init__(\"Dealer\")\n",
    "    \n",
    "    def add_card(self, c):\n",
    "        if not self.lost:\n",
    "            self.hand.append(c)\n",
    "            self.add_points(c.get_value())\n",
    "            \n",
    "    def add_points(self, p):\n",
    "        self.points += p\n",
    "        if self.points >= 17:\n",
    "            self.lost = True\n",
    "        \n",
    "    def get_status_secret(self):\n",
    "        current_hand = [c.display() for c in self.hand]\n",
    "        output = \"?? \"\n",
    "        for i in range(1, len(current_hand)):\n",
    "            output += current_hand[i] + \" \"\n",
    "        return self.name + \": \" + output"
   ]
  },
  {
   "cell_type": "markdown",
   "id": "guided-chuck",
   "metadata": {},
   "source": [
    "finally, we get to the engine of the game. most of it is done for you, but there are 3 pieces of code you'll need to add yourself.\n",
    "\n",
    "1. add a deck, and create a shuffled deck to draw from. create a player and a dealer, then have them each draw 2 cards in turn (i.e. player draws one, dealer draws one, player draws a second, dealer draws a second).\n",
    "2. the player has chosen hit! both the player and the dealer should draw one card\n",
    "  - remember, we added in a flag in the `add_card` method that makes sure that if the Dealer already cleared 17, he doesn't actually draw the card\n",
    "3. the player has passed! update the boolean flag to show that this happened (so that the player can't draw more cards), then have the dealer draw a card\n",
    "\n",
    "once you get all this done, go ahead and test your game of blackjack! if you've done it all correctly, you can play as many games as you'd like."
   ]
  },
  {
   "cell_type": "code",
   "execution_count": 116,
   "id": "restricted-theory",
   "metadata": {},
   "outputs": [],
   "source": [
    "# prints out the cards of the player and dealer, hiding the first card of the dealer\n",
    "def print_status(player, dealer):\n",
    "    print(\"STATUS:\")\n",
    "    print(\"> \" + dealer.get_status_secret())\n",
    "    print(\"> \" + player.get_status())\n",
    "    print(\"   score: \" + str(player.get_points()))\n",
    "    \n",
    "\n",
    "# displays the full hands of both player and dealer, reports the scores, and states the result.    \n",
    "def end_result(userPass, player, dealer):\n",
    "    print(\"FINAL STATUS:\")\n",
    "    print(\"> \" + dealer.get_status())\n",
    "    print(\"   score: \" + str(dealer.get_points()))\n",
    "    print(\"> \" + player.get_status())\n",
    "    print(\"   score: \" + str(player.get_points()))\n",
    "    \n",
    "    if userPass:\n",
    "        if dealer.get_points() < player.get_points() or dealer.get_points() > 21:\n",
    "            print(\"You win!!\")\n",
    "        else:\n",
    "            print(\"You lose :(\")\n",
    "    else:\n",
    "        print(\"You lose :(\")  \n",
    "    \n",
    "    \n",
    "    \n",
    "def play_blackjack():\n",
    "    play = True # boolean flag to indicate when the player either passes or goes bust\n",
    "    \n",
    "    # start of game stuff\n",
    "    ### (1) ###\n",
    "    # your code here!\n",
    "    ### ###\n",
    "    \n",
    "    # >>solution\n",
    "    d = Deck()\n",
    "    dsh = d.shuffle()\n",
    "    P = Player()\n",
    "    D = Dealer()\n",
    "\n",
    "    P.add_card(dsh.pop(0))\n",
    "    D.add_card(dsh.pop(0))\n",
    "    P.add_card(dsh.pop(0))\n",
    "    D.add_card(dsh.pop(0))\n",
    "    # end 1\n",
    "    \n",
    "    # check neither party broke 21 bc they drew two aces\n",
    "    if P.get_lost():\n",
    "        play = False\n",
    "    \n",
    "    while play:\n",
    "        \n",
    "        print_status(P, D) # print the current game status\n",
    "        userPass = False # has the user passed?\n",
    "        \n",
    "        # get input; use break statement to ensure the player only types h or p\n",
    "        while True:\n",
    "            i = input(\"  do you want to [h]it or [p]ass? \")\n",
    "            if i == 'h':\n",
    "                ### (2) ###\n",
    "                # your code here! \n",
    "                \n",
    "                # >> solution\n",
    "                P.add_card(dsh.pop(0))\n",
    "                D.add_card(dsh.pop(0))\n",
    "                break\n",
    "            elif i == 'p':\n",
    "                ### (3) ###\n",
    "                # your code here!\n",
    "                \n",
    "                # >> solution\n",
    "                userPass = True\n",
    "                D.add_card(dsh.pop(0))\n",
    "                break\n",
    "            else:\n",
    "                print(\"please type 'h' or 'p'.\")\n",
    "        \n",
    "        # if the user passes but the dealer hasn't cleared 21 yet, the dealer keeps drawing\n",
    "        if userPass:\n",
    "            while not D.get_lost():\n",
    "                D.add_card(dsh.pop(0))\n",
    "                \n",
    "        ### end of game conditions\n",
    "        # if the user passed (i.e. didn't bust) and the dealer has cleared 17, we see the result\n",
    "        if userPass and D.get_lost():\n",
    "            end_result(userPass, P, D)\n",
    "            play = False\n",
    "        \n",
    "        # if the player went bust, see the end result\n",
    "        if P.get_lost():\n",
    "            end_result(userPass, P, D)\n",
    "            play = False\n",
    "\n",
    "    i = input(\"play again? y/n: \")\n",
    "    if i == \"y\":\n",
    "        play_blackjack()"
   ]
  },
  {
   "cell_type": "code",
   "execution_count": 119,
   "id": "short-crisis",
   "metadata": {},
   "outputs": [
    {
     "name": "stdout",
     "output_type": "stream",
     "text": [
      "STATUS:\n",
      "> Dealer: ?? 9♣ \n",
      "> You: 3♠ Q♣ \n",
      "   score: 13\n",
      "  do you want to [h]it or [p]ass? h\n",
      "FINAL STATUS:\n",
      "> Dealer: 4♠ 9♣ 8♦️ \n",
      "   score: 21\n",
      "> You: 3♠ Q♣ K♣ \n",
      "   score: 23\n",
      "You lose :(\n",
      "play again? y/n: y\n",
      "STATUS:\n",
      "> Dealer: ?? A♠ \n",
      "> You: 10♦️ 4♥️ \n",
      "   score: 14\n",
      "  do you want to [h]it or [p]ass? h\n",
      "STATUS:\n",
      "> Dealer: ?? A♠ 3♣ \n",
      "> You: 10♦️ 4♥️ 4♦️ \n",
      "   score: 18\n",
      "  do you want to [h]it or [p]ass? p\n",
      "FINAL STATUS:\n",
      "> Dealer: 2♦️ A♠ 3♣ 2♠ 10♠ \n",
      "   score: 28\n",
      "> You: 10♦️ 4♥️ 4♦️ \n",
      "   score: 18\n",
      "You win!!\n",
      "play again? y/n: \n"
     ]
    }
   ],
   "source": [
    "play_blackjack()"
   ]
  },
  {
   "cell_type": "markdown",
   "id": "premium-static",
   "metadata": {},
   "source": [
    "## 9. extensions. further reading.\n",
    "\n",
    "- lambda functions, i.e. defining functions inside the list comprehension\n",
    "- dictionary and set comprehensions also exist, very similar to list comprehension\n",
    "- `map()` and `filter()` - much faster, but much harder to use and mostly only need to bother with them if you're using huge lists\n",
    "  - also, libraries like numpy and pandas often have these optimized functions already built-in, so be careful with these methods if you're using numpy arrays or something\n",
    "- writing your own iterators, and extending them to generators\n",
    "\n",
    "### important things we didn't get around to\n",
    "- dictionaries, sets, ordered lists"
   ]
  }
 ],
 "metadata": {
  "kernelspec": {
   "display_name": "Python 3",
   "language": "python",
   "name": "python3"
  },
  "language_info": {
   "codemirror_mode": {
    "name": "ipython",
    "version": 3
   },
   "file_extension": ".py",
   "mimetype": "text/x-python",
   "name": "python",
   "nbconvert_exporter": "python",
   "pygments_lexer": "ipython3",
   "version": "3.9.4"
  }
 },
 "nbformat": 4,
 "nbformat_minor": 5
}
