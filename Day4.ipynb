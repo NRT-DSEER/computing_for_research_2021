{
 "cells": [
  {
   "cell_type": "markdown",
   "id": "proper-jumping",
   "metadata": {},
   "source": [
    "# Day 4 - Numerical Methods\n",
    "\n",
    "## Agenda\n",
    "1. finding zeros of functions.\n",
    "2. scipy.minimize .\n",
    "3. derivatives and integrals.\n",
    "4. scipy.interpolate .\n",
    "5. project."
   ]
  },
  {
   "cell_type": "markdown",
   "id": "hungarian-longer",
   "metadata": {},
   "source": [
    "this section is not meant to be an extensive discussion of numerical methods in python; it will just be a bit of an overview of a handful of the (many) major functions and uses of the `scipy.optimize` library, plus a brief foray into `scipy.interpolate`.\n",
    "\n",
    "a word of warning: whenever you want to break out any of the numerical methods in `scipy`, __READ THE DOCUMENTATION THOROUGHLY__. there are many very similar functions that on the surface appear to do the same thing, but under the hood and in what they accomplish, can be very different. sometimes, you'll need to switch which one you use because the one you chose just won't converge, or it crashed your computer, or there's a weird error that's not real, or etc etc. it's an art, not a science, so click through the actual documentation and check the 'see also' list at the bottom of each page. "
   ]
  },
  {
   "cell_type": "code",
   "execution_count": null,
   "id": "extraordinary-diana",
   "metadata": {},
   "outputs": [],
   "source": [
    "# imports for this notebook\n",
    "import numpy as np\n",
    "np.set_printoptions(suppress=True) # disable scientific notation\n",
    "import scipy.optimize, scipy.interpolate, scipy.integrate, scipy.misc\n",
    "import time\n",
    "import matplotlib.pyplot as plt"
   ]
  },
  {
   "cell_type": "markdown",
   "id": "suspected-soviet",
   "metadata": {},
   "source": [
    "## 1. finding zeros of functions.\n",
    "\n",
    "one of the most common numerical techniques is finding the zero of a function. sometimes it's finding where our ugly little polynomial crosses the x-axis; sometimes finding the zero of a derivative; but mostly, it's for solving highly nonlinear equations, where we just move all of our terms to one side of the equals sign.\n",
    "\n",
    "if you have a function in analytic form, the best method to use `scipy.optimize.brentq()`; it uses Richard Brent's algorithm. `brentq` requires two parameters beyond the function, which are the end points of the bracket $[a,b]$ we are finding the zero in. it requires that the signs at $a$ and $b$ are opposite, to guarantee the function crosses zero."
   ]
  },
  {
   "cell_type": "code",
   "execution_count": null,
   "id": "tutorial-blond",
   "metadata": {},
   "outputs": [],
   "source": [
    "def f(x):\n",
    "    return x**3 - 6*x**2 + 11*x - 6\n",
    "\n",
    "root = scipy.optimize.brentq(f, .5, 1.5)\n",
    "print(root)\n",
    "\n",
    "root2 = scipy.optimize.brentq(f, 1.5, 2.5)\n",
    "print(root2)\n",
    "\n",
    "root3 = scipy.optimize.brentq(f, 2.5, 10)\n",
    "print(root3)\n",
    "\n",
    "root_suprise = scipy.optimize.brentq(f, 0, 10)\n",
    "print(root_suprise)\n",
    "\n",
    "root_err = scipy.optimize.brentq(f, 0, 2.5)\n",
    "print(root_err)"
   ]
  },
  {
   "cell_type": "markdown",
   "id": "differential-excuse",
   "metadata": {},
   "source": [
    "now let's try something like $(x^2-1) \\sin(x) = 2x \\cos(x)$. we don't know where the root(s) is, so we will plot it to get an idea before using `brentq`."
   ]
  },
  {
   "cell_type": "code",
   "execution_count": null,
   "id": "agreed-buying",
   "metadata": {
    "scrolled": true
   },
   "outputs": [],
   "source": [
    "# rewrite function to (x^2-1)sinx - 2x cosx = 0\n",
    "def f(x):\n",
    "    return (x**2 - 1) * np.sin(x) - 2*x*np.cos(x)\n",
    "\n",
    "x = np.linspace(0,2,100)\n",
    "plt.plot(x, f(x))\n",
    "plt.axhline(0, color='black')\n",
    "plt.title(\"Function with unknown root\")\n",
    "plt.show()"
   ]
  },
  {
   "cell_type": "markdown",
   "id": "distinct-policy",
   "metadata": {},
   "source": [
    "we see that there's a root somewhere around x=1.25, so let's use `brentq` to find it:"
   ]
  },
  {
   "cell_type": "code",
   "execution_count": null,
   "id": "intelligent-basketball",
   "metadata": {},
   "outputs": [],
   "source": [
    "root = scipy.optimize.brentq(f, 1, 1.5)\n",
    "print(root)"
   ]
  },
  {
   "cell_type": "markdown",
   "id": "raising-conservative",
   "metadata": {},
   "source": [
    "__your turn to try!__ use brentq to solve the following:  \n",
    "\n",
    "(a) $\\cos(x) \\csc(x) \\cot(x) = 6 - \\cot^2(x)$  \n",
    "(b) find the first 3 roots (starting at x=0 -> x=infinity) for $f(x) = \\frac{\\sin(x)}{x+1}$"
   ]
  },
  {
   "cell_type": "markdown",
   "id": "driving-nothing",
   "metadata": {},
   "source": [
    "a more sophisticated, but considerably more likely to break, method is the `fsolve()` function. it allows us to give an approximation to the root if we would like to choose one:"
   ]
  },
  {
   "cell_type": "code",
   "execution_count": null,
   "id": "sticky-saying",
   "metadata": {},
   "outputs": [],
   "source": [
    "def f(x):\n",
    "    return x**3 - 6*x**2 + 11*x - 6\n",
    "\n",
    "root = scipy.optimize.fsolve(f, 4)\n",
    "print(root)\n",
    "\n",
    "root2 = scipy.optimize.fsolve(f, 0)\n",
    "print(root2)"
   ]
  },
  {
   "cell_type": "markdown",
   "id": "instructional-serve",
   "metadata": {},
   "source": [
    "`fsolve` is also able to solve nonlinear system of equations, such as this one:\n",
    "\n",
    "$x \\cos(y) - 4 = 0$\n",
    "\n",
    "$xy - y - 5 = 0$\n",
    "\n",
    "plotting these is a bit trickier, but here's how to do it:"
   ]
  },
  {
   "cell_type": "code",
   "execution_count": null,
   "id": "particular-firewall",
   "metadata": {},
   "outputs": [],
   "source": [
    "def func(x):\n",
    "    return [x[0] * np.cos(x[1]) - 4,\n",
    "            x[0] * x[1] - x[1] - 5]\n",
    "\n",
    "# plotting\n",
    "x = np.linspace(0,10,100)\n",
    "y = np.linspace(0,1,20)\n",
    "X,Y = np.meshgrid(x,y)\n",
    "F1 = X*np.cos(Y) - 4\n",
    "F2 = X*Y - Y - 5\n",
    "plt.contour(X,Y,F1,[0], colors=\"black\")\n",
    "plt.contour(X,Y,F2,[0], colors=\"red\")\n",
    "plt.title(\"system of eqs example\")\n",
    "plt.show()\n",
    "\n",
    "# finding the root\n",
    "root = scipy.optimize.fsolve(func, [1, 1])\n",
    "print(root)"
   ]
  },
  {
   "cell_type": "markdown",
   "id": "romantic-movie",
   "metadata": {},
   "source": [
    "__your turn to try!__ use fsolve to solve the following system of equations, finding all solutions. plot both curves to make sure you find all of them!\n",
    "\n",
    "$x^2 + y^2 = 26$\n",
    "\n",
    "$3x^2 + 25y^2 = 100$\n",
    "\n",
    "hint: call `plt.gca().set_aspect('equal')` before `plt.show()` to get the axes to have the same aspect ratio, if you want your circle to be circular (a cosmetic difference, doesn't affect the math)."
   ]
  },
  {
   "cell_type": "markdown",
   "id": "velvet-password",
   "metadata": {},
   "source": [
    "## 2. `scipy.optimize.minimize`\n",
    "\n",
    "`minimize` allows us to solve a constrained equation, which is incredibly common within economics. here's a simple example.\n",
    "\n",
    "given our equation, $f(x) = (x-1)^2 + (y-2.5)^2 = 0$, we have the following constraints:  \n",
    "\n",
    "$x - 2y + 2 \\geq 0$\n",
    "\n",
    "$-x - 2y + 6 \\geq 0$\n",
    "\n",
    "$-x + 2y + 2 \\geq 0$\n",
    "\n",
    "both $x$ and $y$ must be greater than 0."
   ]
  },
  {
   "cell_type": "code",
   "execution_count": null,
   "id": "single-formula",
   "metadata": {},
   "outputs": [],
   "source": [
    "# recast (x,y) into np.array([x0, x1])\n",
    "def f(x): \n",
    "    (x[0] - 1)**2 + (x[1] - 2.5)**2\n",
    "\n",
    "# constraints\n",
    "cons = ({'type': 'ineq', 'fun': lambda x:  x[0] - 2 * x[1] + 2}, \n",
    "        {'type': 'ineq', 'fun': lambda x: -x[0] - 2 * x[1] + 6}, \n",
    "        {'type': 'ineq', 'fun': lambda x: -x[0] + 2 * x[1] + 2})\n",
    "bnds = ((0, None), (0, None))\n",
    "\n",
    "res = scipy.optimize.minimize(f, (2, 1), bounds=bnds, constraints=cons)\n",
    "print(res)"
   ]
  },
  {
   "cell_type": "markdown",
   "id": "wicked-istanbul",
   "metadata": {},
   "source": [
    "this is exactly what i mean, i literally pulled this example from the documentation. theoretically this should just be (1.4, 1.7), but go figure. i give up. i hate numerical methods.\n",
    "\n",
    "__your turn to try!__ solve the following constrained optimization problems (check the documentation to see how to modify constraints and bounds):\n",
    "\n",
    "(1) $f(x,y) = xy$, constraint: $g(x,y) = x+4y = 240$\n",
    "\n",
    "(2) find the points on the circle $x^2 + y^2=80$ which are closest and furthest from the point (1,2).\n",
    "\n",
    "hint: the distance equation to (1,2) is $d = \\sqrt{(x-1)^2 + (y-2)^2}$, and $x,y$ are constrained to the circle!\n",
    "\n",
    "hint 2: maximization can be thought of minimizing the negative version of a function."
   ]
  },
  {
   "cell_type": "markdown",
   "id": "discrete-toddler",
   "metadata": {},
   "source": [
    "## 3. integration and differentiation.\n",
    "\n",
    "pretty straightforward, we just use the analytic form of the function and the correct bounds. this is not Wolfram Alpha, it will not solve these expressions for us analytically! we only get the values of evaluating the derivative/antiderivative at a particular point/range.\n",
    "\n",
    "$ \\int_{0}^4 x^2 dx $\n",
    "\n",
    "$ \\int_0^\\infty e^{-x} dx $\n",
    "\n",
    "$ \\frac{d}{dx} x^3 + x^2 |(x=1) $"
   ]
  },
  {
   "cell_type": "code",
   "execution_count": null,
   "id": "skilled-rider",
   "metadata": {},
   "outputs": [],
   "source": [
    "# integration\n",
    "x2 = lambda x: x**2\n",
    "y, err = scipy.integrate.quad(x2, 0, 4)\n",
    "print(y)\n",
    "\n",
    "invexp = lambda x: np.exp(-x)\n",
    "y, err = scipy.integrate.quad(invexp, 0, np.inf)\n",
    "print(y)"
   ]
  },
  {
   "cell_type": "code",
   "execution_count": null,
   "id": "revolutionary-interpretation",
   "metadata": {},
   "outputs": [],
   "source": [
    "# differentiation\n",
    "def f(x):\n",
    "    return x**3 + x**2\n",
    "\n",
    "der = scipy.misc.derivative(f, 1.0, n=1, dx=1e-6) #n is the order of the derivative\n",
    "print(der)"
   ]
  },
  {
   "cell_type": "markdown",
   "id": "genetic-joshua",
   "metadata": {},
   "source": [
    "what about multiple integrals/derivatives? glad you asked! let's take a look at a double integral first:\n",
    "\n",
    "we can use the method `dblquad` to solve the following: \n",
    "\n",
    "$I = \\int_{y=0}^{1/2} \\int_{x=0}^{1-2y} xy dx dy$"
   ]
  },
  {
   "cell_type": "code",
   "execution_count": null,
   "id": "mobile-underground",
   "metadata": {
    "scrolled": true
   },
   "outputs": [],
   "source": [
    "area, err = scipy.integrate.dblquad(lambda x, y: x*y, 0, 0.5, lambda x: 0, lambda x: 1-2*x)\n",
    "print(area)"
   ]
  },
  {
   "cell_type": "markdown",
   "id": "recent-tractor",
   "metadata": {},
   "source": [
    "alternatively, we can use the function `nquad` to perform `n` integrals (in this case 2):"
   ]
  },
  {
   "cell_type": "code",
   "execution_count": null,
   "id": "pediatric-pulse",
   "metadata": {},
   "outputs": [],
   "source": [
    "def f(x, y):\n",
    "    return x*y\n",
    "\n",
    "def bounds_y():\n",
    "    return [0, 0.5]\n",
    "\n",
    "def bounds_x(y):\n",
    "    return [0, 1-2*y]\n",
    "\n",
    "area, err = scipy.integrate.nquad(f, [bounds_x, bounds_y])\n",
    "print(area)"
   ]
  },
  {
   "cell_type": "markdown",
   "id": "pediatric-narrative",
   "metadata": {},
   "source": [
    "as another quick example, take a look at solving the eq. below with `nquad`:\n",
    "\n",
    "$I_n = \\int_0^{\\infty} \\int_1^{\\infty} \\frac{e^{-xt}}{t^n}dtdx $, for n = 5"
   ]
  },
  {
   "cell_type": "code",
   "execution_count": null,
   "id": "innovative-pioneer",
   "metadata": {},
   "outputs": [],
   "source": [
    "N = 5\n",
    "def f(t, x):\n",
    "    return np.exp(-x*t) / t**N\n",
    "\n",
    "area,err = scipy.integrate.nquad(f, [[1, np.inf],[0, np.inf]])\n",
    "print(area)"
   ]
  },
  {
   "cell_type": "markdown",
   "id": "revolutionary-diversity",
   "metadata": {},
   "source": [
    "unfortunately, functions for partial derivatives are difficult to come by, so here's one I found for you. source: https://stackoverflow.com/questions/20708038/scipy-misc-derivative-for-multiple-argument-function"
   ]
  },
  {
   "cell_type": "code",
   "execution_count": null,
   "id": "mobile-excerpt",
   "metadata": {},
   "outputs": [],
   "source": [
    "def partial_derivative(func, var=0, point=[]):\n",
    "    args = point[:]\n",
    "    def wraps(x):\n",
    "        args[var] = x\n",
    "        return func(*args)\n",
    "    return scipy.misc.derivative(wraps, point[var], dx = 1e-6)\n",
    "\n",
    "def foo(x, y):\n",
    "    return x**2 + y**3\n",
    "\n",
    "print(f\"partial x: {partial_derivative(foo, 0, [3,1])}\")\n",
    "print(f\"partial y: {partial_derivative(foo, 1, [3,1])}\")"
   ]
  },
  {
   "cell_type": "markdown",
   "id": "underlying-jackson",
   "metadata": {},
   "source": [
    "## 4. scipy.interpolate\n",
    "\n",
    "the `interpolate` class is considerably more powerful when it comes to research. this is a python class (like we discussed tuesday) that generates an `interpolate` object.\n",
    "\n",
    "interpolation is a method of smoothing raw data. there are many, many, methods, but the most common is polynomial interpolation, also called 'splining'. it fits polynomials to subsets of the data, then joins them where they overlap, to form a smooth, continuous, differentiable curve that approximates the original data. naturally, the higher order the polynomial, the better the fit to the data, but having too high an order will overfit your data and ruin any meaningful interpretation you may have had. \n",
    "\n",
    "rule of thumb is to use cubic polynomial splines to perform interpolation, but it's a __starting point__ and not a final rule.\n",
    "\n",
    "let's walk through making a `UnivariateSpline` and some of its useful properties!"
   ]
  },
  {
   "cell_type": "code",
   "execution_count": null,
   "id": "celtic-pressure",
   "metadata": {},
   "outputs": [],
   "source": [
    "np.random.seed(420) # for reproduceability\n",
    "x = np.linspace(-3, 3, 50)\n",
    "y = np.exp(-x**2) + 0.1 * np.random.random(size=50) - .25\n",
    "plt.plot(x, y, 'ro', ms=5)\n",
    "plt.axhline(0, linestyle='dashed', color='black')\n",
    "plt.title(\"Sample Data\")\n",
    "plt.show()"
   ]
  },
  {
   "cell_type": "markdown",
   "id": "ambient-robinson",
   "metadata": {},
   "source": [
    "first, we need to instantiate the `UnivariateSpline` object, which we will then plot on top of our original data.\n",
    "\n",
    "when creating the support for our spline, we should be very careful not to put in bounds that are outside our original data, as extrapolating requires extra care. while `UnivariateSpline` does allow extrapolation (older versions of this functionality would throw errors), you shouldn't use it to perform analytic work; casual inspection is fine."
   ]
  },
  {
   "cell_type": "code",
   "execution_count": null,
   "id": "enclosed-continuity",
   "metadata": {},
   "outputs": [],
   "source": [
    "# create the UnivariateSpline object, spl\n",
    "spl = scipy.interpolate.UnivariateSpline(x, y)\n",
    "\n",
    "# what support should the spline have?\n",
    "xs = np.linspace(-3, 3, 1000)\n",
    "\n",
    "# why we always tune the smoothing factor\n",
    "# plotting\n",
    "plt.plot(x, y, 'ro', ms=5)\n",
    "plt.plot(xs, spl(xs), 'g', lw=3)\n",
    "plt.title(\"Sample Data + UnivariateSpline\")\n",
    "plt.show()"
   ]
  },
  {
   "cell_type": "markdown",
   "id": "provincial-collective",
   "metadata": {},
   "source": [
    "...huh.\n",
    "\n",
    "so why does our spline look like a single parabola, instead of a smooth approximation to our data? well, this is what __oversmoothing__ looks like. we have to tune the smoothing parameter!\n",
    "\n",
    "n.b. remember our `get()` functions when we were writing our own classes? `UnivariateSpline.set_smoothing_factor()` is pretty much exactly that, except instead of `get`ing a object variable, we are `set`ing it instead! this is what I mean when I say that we shouldn't manipulate object variables directly, but use `get` and `set` functions.\n",
    "\n",
    "since the smoothing factor is an object variable, once we change it, that smoothing factor doesn't change unless we call `set_smoothing_factor()` again, so once we've chosen it for the spline, we don't need to set it again."
   ]
  },
  {
   "cell_type": "code",
   "execution_count": null,
   "id": "ranging-workshop",
   "metadata": {
    "scrolled": true
   },
   "outputs": [],
   "source": [
    "# why we always tune the smoothing factor\n",
    "plt.plot(x, y, 'ko', ms=5)\n",
    "plt.plot(xs, spl(xs), 'g', lw=2) # original spline\n",
    "\n",
    "spl.set_smoothing_factor(0)\n",
    "plt.plot(xs, spl(xs), 'black', lw=2)\n",
    "\n",
    "spl.set_smoothing_factor(.1)\n",
    "plt.plot(xs, spl(xs), 'r', lw=2)\n",
    "\n",
    "spl.set_smoothing_factor(.25)\n",
    "plt.plot(xs, spl(xs), 'orange', lw=2)\n",
    "\n",
    "spl.set_smoothing_factor(.5)\n",
    "plt.plot(xs, spl(xs), 'b--', lw=1)\n",
    "\n",
    "plt.title(\"Sample Data + UnivariateSpline, multiple smoothing parameters\")\n",
    "plt.legend([\"data\", \"s=1\", \"s=0\", \"s=.1\", \"s=.25\", \"s=.5\"])\n",
    "plt.show()"
   ]
  },
  {
   "cell_type": "markdown",
   "id": "stylish-index",
   "metadata": {},
   "source": [
    "i'm going to choose `s=.05` for our spline, pictured here:"
   ]
  },
  {
   "cell_type": "code",
   "execution_count": null,
   "id": "eight-wallace",
   "metadata": {
    "scrolled": true
   },
   "outputs": [],
   "source": [
    "plt.plot(x, y, 'ko', ms=5)\n",
    "spl.set_smoothing_factor(.05)\n",
    "plt.plot(xs, spl(xs), 'black', lw=2)\n",
    "\n",
    "plt.title(\"Sample Data + UnivariateSpline, smoothed\")\n",
    "plt.show()"
   ]
  },
  {
   "cell_type": "markdown",
   "id": "persistent-truck",
   "metadata": {},
   "source": [
    "now that our spline is ready to go, there's tons of functionality we can take advantage of. funnily enough, we can do everything we've talked about today!\n",
    "\n",
    "we can evaluate our spline at any point in its support:"
   ]
  },
  {
   "cell_type": "code",
   "execution_count": null,
   "id": "successful-equity",
   "metadata": {},
   "outputs": [],
   "source": [
    "print(spl(0))\n",
    "print(spl(2))\n",
    "print(spl(4)) # extrapolation! doesn't throw an error, so be careful"
   ]
  },
  {
   "cell_type": "markdown",
   "id": "removable-internship",
   "metadata": {},
   "source": [
    "we can find the roots of our spline:"
   ]
  },
  {
   "cell_type": "code",
   "execution_count": null,
   "id": "severe-computer",
   "metadata": {
    "scrolled": true
   },
   "outputs": [],
   "source": [
    "print(f\"roots: {spl.roots()}\")\n",
    "\n",
    "plt.plot(x, y, 'ko', ms=5)\n",
    "plt.plot(xs, spl(xs), 'black', lw=2)\n",
    "plt.axvline(spl.roots()[0], color='blue', linestyle='dashed')\n",
    "plt.axvline(spl.roots()[1], color='blue', linestyle='dashed')\n",
    "plt.axhline(0, color='green')\n",
    "plt.show()"
   ]
  },
  {
   "cell_type": "markdown",
   "id": "included-condition",
   "metadata": {},
   "source": [
    "we can calculate derivatives at points, and integrals over bounds:\n",
    "\n",
    "n.b.: be careful with `derivatives()`, if a function is infinitely differentiable, I'm not sure if/when it will stop calculating derivatives. there's probably a cap somewhere, but I honestly don't know."
   ]
  },
  {
   "cell_type": "code",
   "execution_count": null,
   "id": "following-tiger",
   "metadata": {},
   "outputs": [],
   "source": [
    "print(spl.derivatives(-.5)) # there are 4 derivatives at x=-.5 before our derivative is always 0\n",
    "print(spl.integral(spl.roots()[0],spl.roots()[1]))"
   ]
  },
  {
   "cell_type": "markdown",
   "id": "collaborative-gnome",
   "metadata": {},
   "source": [
    "and of course, we can ask it to calculate the residual between the spline and the original data:"
   ]
  },
  {
   "cell_type": "code",
   "execution_count": null,
   "id": "baking-fruit",
   "metadata": {},
   "outputs": [],
   "source": [
    "print(spl.get_residual())"
   ]
  },
  {
   "cell_type": "markdown",
   "id": "known-arnold",
   "metadata": {},
   "source": [
    "__however__, `UnivariateSpline` takes the cake for performing analytic integrals and derivatives!!"
   ]
  },
  {
   "cell_type": "code",
   "execution_count": null,
   "id": "forty-bridges",
   "metadata": {},
   "outputs": [],
   "source": [
    "# using the spline to find the derivative\n",
    "spl_der = spl.derivative()\n",
    "plt.plot(xs, spl_der(xs))\n",
    "plt.title(\"Derivative using UnivariateSpline\")\n",
    "plt.show()"
   ]
  },
  {
   "cell_type": "code",
   "execution_count": null,
   "id": "completed-circle",
   "metadata": {},
   "outputs": [],
   "source": [
    "# and to find the integral\n",
    "spl_int = spl.antiderivative()\n",
    "plt.plot(xs, spl_int(xs))\n",
    "plt.title(\"Antiderivative using UnivariateSpline\")\n",
    "plt.show()"
   ]
  },
  {
   "cell_type": "markdown",
   "id": "compact-cosmetic",
   "metadata": {},
   "source": [
    "because calling these functions returns `UnivariateSpline` objects as well, everything we just did we can do with our new `UnivariateSpline`s!!\n",
    "\n",
    "__NOTE__: some functions above only work with a cubic spline (the default), so taking a derivative or antiderivative converts the splines down/up a degree, respectively. if you want to find the roots, you have to use a 4th order polynomial in the original spline:"
   ]
  },
  {
   "cell_type": "code",
   "execution_count": null,
   "id": "norman-compression",
   "metadata": {},
   "outputs": [],
   "source": [
    "# finding the zeros of the derivative\n",
    "spl2 = scipy.interpolate.UnivariateSpline(x, y, k=4)\n",
    "support = np.linspace(-3,3,50)\n",
    "\n",
    "plt.plot(x,y,'ko')\n",
    "spl2.set_smoothing_factor(.03) # smoothing factor will change because order changed!\n",
    "plt.plot(support, spl2(support))\n",
    "plt.title(\"4th Order Spline\")\n",
    "plt.show()"
   ]
  },
  {
   "cell_type": "code",
   "execution_count": null,
   "id": "ambient-beijing",
   "metadata": {},
   "outputs": [],
   "source": [
    "spl2_der = spl2.derivative()\n",
    "plt.plot(support, spl2_der(support))\n",
    "plt.axhline(0, color='k')\n",
    "plt.title(\"Derivative, 3rd Order Spline\")\n",
    "plt.show()\n",
    "\n",
    "print(f\"zeros of derivative: {spl2.derivative().roots()}\")"
   ]
  },
  {
   "cell_type": "markdown",
   "id": "painful-tomato",
   "metadata": {},
   "source": [
    "## 5. project.\n",
    "\n",
    "here's a messy function for you to try and play around with `UnivariateSpline`! I would like you to find the location and values of the global maxima and minima (of a single period) of the function given to you below. The support for our function is going to be `[0, .02]`\n",
    "\n",
    "what you should show:\n",
    "1. rationale for your choice of smoothing parameter\n",
    "2. plot of the second derivative with `axline` of the global maxima and minima\n",
    "3. plot of the original noisy data with `axline` of the global maxima and minima, with their corresponding frequency values printed below it (using f strings!).\n",
    "\n",
    "good luck!\n",
    "\n",
    "fun fact -- this is actually the sound wave of the A major chord (A - C# - E, A440)!"
   ]
  },
  {
   "cell_type": "code",
   "execution_count": null,
   "id": "after-drill",
   "metadata": {},
   "outputs": [],
   "source": [
    "np.random.seed(666)\n",
    "\n",
    "def a_major(x):\n",
    "    return np.sin(880 * np.pi * x) + np.sin(1100 * np.pi * x) + np.sin(1320 * np.pi * x)\n",
    "\n",
    "x = np.linspace(0,.02,500)\n",
    "y = a_major(x) + np.random.random(500)\n",
    "#plt.plot(x, y, 'bo', ms=3) # if you prefer points\n",
    "plt.plot(x,y, 'k') # if you prefer lines\n",
    "plt.title(\"A Major Chord + Noise\")\n",
    "plt.xlabel(\"time, s\")\n",
    "plt.ylabel(\"amplitude\")\n",
    "plt.show()"
   ]
  }
 ],
 "metadata": {
  "kernelspec": {
   "display_name": "Python 3",
   "language": "python",
   "name": "python3"
  },
  "language_info": {
   "codemirror_mode": {
    "name": "ipython",
    "version": 3
   },
   "file_extension": ".py",
   "mimetype": "text/x-python",
   "name": "python",
   "nbconvert_exporter": "python",
   "pygments_lexer": "ipython3",
   "version": "3.9.4"
  }
 },
 "nbformat": 4,
 "nbformat_minor": 5
}
