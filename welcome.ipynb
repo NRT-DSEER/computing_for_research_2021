{
 "cells": [
  {
   "cell_type": "markdown",
   "id": "simplified-lafayette",
   "metadata": {},
   "source": [
    "# Welcome to Computing for Research!\n",
    "\n",
    "Run the below cells to make sure your setup worked. You can do this by clicking on the cell and then pressing `Shift+Enter`. If you don't get any errors, that means your setup worked. If you do, post in the slack and go to office hours."
   ]
  },
  {
   "cell_type": "code",
   "execution_count": 1,
   "id": "italian-error",
   "metadata": {},
   "outputs": [],
   "source": [
    "import numpy as np\n",
    "import matplotlib.pyplot as plt\n",
    "import pandas as pd"
   ]
  },
  {
   "cell_type": "code",
   "execution_count": 2,
   "id": "classified-bolivia",
   "metadata": {
    "scrolled": true
   },
   "outputs": [
    {
     "name": "stdout",
     "output_type": "stream",
     "text": [
      "hello world\n"
     ]
    }
   ],
   "source": [
    "print(\"hello world\")"
   ]
  },
  {
   "cell_type": "markdown",
   "id": "aerial-association",
   "metadata": {},
   "source": [
    "# header 1\n",
    "## header 2\n",
    "_italic_\n",
    "__bold__\n",
    "\n",
    "1. item 1\n",
    "2. item 2\n",
    "\n",
    "- unordered item 1\n",
    "- 2\n",
    "\n",
    "$ E=mc^2 $"
   ]
  },
  {
   "cell_type": "markdown",
   "id": "final-wyoming",
   "metadata": {},
   "source": [
    "`random.random()`"
   ]
  }
 ],
 "metadata": {
  "kernelspec": {
   "display_name": "Python 3",
   "language": "python",
   "name": "python3"
  },
  "language_info": {
   "codemirror_mode": {
    "name": "ipython",
    "version": 3
   },
   "file_extension": ".py",
   "mimetype": "text/x-python",
   "name": "python",
   "nbconvert_exporter": "python",
   "pygments_lexer": "ipython3",
   "version": "3.9.4"
  }
 },
 "nbformat": 4,
 "nbformat_minor": 5
}
