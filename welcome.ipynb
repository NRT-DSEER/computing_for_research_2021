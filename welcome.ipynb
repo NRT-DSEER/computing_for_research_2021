{
 "cells": [
  {
   "cell_type": "markdown",
   "id": "simplified-lafayette",
   "metadata": {},
   "source": [
    "# Welcome to Computing for Research!\n",
    "\n",
    "Run the below cells to make sure your setup worked. You can do this by clicking on the cell and then pressing `Shift+Enter`. If you don't get any errors, that means your setup worked. If you do, post in the slack and go to office hours."
   ]
  },
  {
   "cell_type": "code",
   "execution_count": null,
   "id": "italian-error",
   "metadata": {},
   "outputs": [],
   "source": [
    "import numpy as np\n",
    "import matplotlib.pyplot as plt\n",
    "import pandas as pd"
   ]
  },
  {
   "cell_type": "code",
   "execution_count": null,
   "id": "classified-bolivia",
   "metadata": {},
   "outputs": [],
   "source": [
    "print(\"hello world\")"
   ]
  }
 ],
 "metadata": {
  "kernelspec": {
   "display_name": "Python 3",
   "language": "python",
   "name": "python3"
  },
  "language_info": {
   "codemirror_mode": {
    "name": "ipython",
    "version": 3
   },
   "file_extension": ".py",
   "mimetype": "text/x-python",
   "name": "python",
   "nbconvert_exporter": "python",
   "pygments_lexer": "ipython3",
   "version": "3.9.4"
  }
 },
 "nbformat": 4,
 "nbformat_minor": 5
}
